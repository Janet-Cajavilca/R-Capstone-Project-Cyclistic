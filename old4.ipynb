{
 "cells": [
  {
   "cell_type": "markdown",
   "id": "795aead2",
   "metadata": {},
   "source": [
    "# <center>R Capstone Project Cyclist</center>\n",
    "\n",
    " **Task Question: How do annual members and casual riders use Cyclistic bikes differently?**\n",
    " \n",
    "For the analysis of the data I decided to use R data because the data is too large for using Google Spreadsheets or Microsoft Excel"
   ]
  },
  {
   "cell_type": "markdown",
   "id": "6d6ced26",
   "metadata": {},
   "source": [
    "## Prepare: A description of all data sources used"
   ]
  },
  {
   "cell_type": "markdown",
   "id": "a8027aff",
   "metadata": {},
   "source": [
    "- The data has been made available by Motivate International Inc.(Secondary data) https://divvy-tripdata.s3.amazonaws.com/index.html  \n",
    "- There are no issues with the credibility of the data because the data comes from a trustworthy source, in this case, the company Lyft Bikes and Scooters, LLC (“Bikeshare”) which shares its data for study purposes. \n",
    "- Privacy is respected. The customer's IDs are not shared with the public. \n",
    "- This data seems to be reliable, original, comprehensive, current, or cited. \n",
    "- I will use 12 data files, one file for each month from August 2022 to July 2023 (there are more data files, however, the assignment was exclusive for this period of time)\n",
    "- Each file has the same column names, which are\n",
    "\n",
    "| Column Name        | Description                                        |\n",
    "|--------------------|----------------------------------------------------|\n",
    "| ride_id            | Unique ID for each ride                            |\n",
    "| rideable_type      | The type of ride used                              |\n",
    "| started_at         | The starting date and time of the ride             |\n",
    "| ended_at           | The ending date and time of the ride               |\n",
    "| start_station_name | The starting location of the ride                  |\n",
    "| start_station_id   | The ID of the station where the ride started       |\n",
    "| end_station_name   | The ending location of the ride                    |\n",
    "| end_station_id     | The ID of the station where the ride ended         |\n",
    "| start_lat          | The latitude (position) of the starting point      |\n",
    "| start_lng          | The longitude (position) of the starting point     |\n",
    "| end_lat            | The latitude (position) of the ending point        |\n",
    "| end_lng            | The longitude (position) of the ending point       |\n",
    "| member_casual      | Member or casual rider                             |\n",
    "\n",
    "\n",
    "**Note:** no metadata about the files were found. The description of each column was made according to its values\n"
   ]
  },
  {
   "cell_type": "markdown",
   "id": "3b9ffad7",
   "metadata": {},
   "source": [
    "### 1. Reading the CSV and creating Data Frames"
   ]
  },
  {
   "cell_type": "code",
   "execution_count": null,
   "id": "19522d79",
   "metadata": {},
   "outputs": [],
   "source": [
    "# loading the necessary packages \n",
    "library(tidyverse)\n",
    "library(readr)"
   ]
  },
  {
   "cell_type": "code",
   "execution_count": null,
   "id": "4fc94f32",
   "metadata": {},
   "outputs": [],
   "source": [
    "# read the CSV files and create data frames\n",
    "August_2022 <- read_csv(\"data/202208-divvy-tripdata.csv\")\n",
    "September_2022 <- read_csv(\"data/202209-divvy-tripdata.csv\")\n",
    "October_2022 <- read_csv(\"data/202210-divvy-tripdata.csv\")\n",
    "November_2022 <- read_csv(\"data/202211-divvy-tripdata.csv\")\n",
    "December_2022 <- read_csv(\"data/202212-divvy-tripdata.csv\")\n",
    "January_2023 <- read_csv(\"data/202301-divvy-tripdata.csv\")\n",
    "February_2023 <- read_csv(\"data/202302-divvy-tripdata.csv\")\n",
    "March_2023 <- read_csv(\"data/202303-divvy-tripdata.csv\")\n",
    "April_2023 <- read_csv(\"data/202304-divvy-tripdata.csv\")\n",
    "May_2023 <- read_csv(\"data/202305-divvy-tripdata.csv\")\n",
    "June_2023 <- read_csv(\"data/202306-divvy-tripdata.csv\")\n",
    "July_2023 <- read_csv(\"data/202307-divvy-tripdata.csv\")"
   ]
  },
  {
   "cell_type": "markdown",
   "id": "09be76c1",
   "metadata": {},
   "source": [
    "### 2. Check if all 12 data sets are saved for the analysis."
   ]
  },
  {
   "cell_type": "code",
   "execution_count": 3,
   "id": "145b2b16",
   "metadata": {
    "scrolled": true
   },
   "outputs": [
    {
     "name": "stdout",
     "output_type": "stream",
     "text": [
      "Number of datasets: 12 \n"
     ]
    }
   ],
   "source": [
    "# control if all 12 data sets are saved for the analysis\n",
    "objects <- ls()# Count the number of data sets\n",
    "dataset_count <- sum(sapply(objects, function(obj) is.data.frame(get(obj))))\n",
    "                            \n",
    "# Print the count\n",
    "cat(\"Number of datasets:\", dataset_count, \"\\n\")"
   ]
  },
  {
   "cell_type": "markdown",
   "id": "19fde06a",
   "metadata": {},
   "source": [
    "## Process: Documentation of any cleaning or manipulation of data\n"
   ]
  },
  {
   "cell_type": "markdown",
   "id": "e0a4ef9c",
   "metadata": {},
   "source": [
    "### 1.  Checking if each data frame has the same column names and if the classes of these match"
   ]
  },
  {
   "cell_type": "code",
   "execution_count": null,
   "id": "dec2945e",
   "metadata": {
    "scrolled": true
   },
   "outputs": [],
   "source": [
    "# 1.  before merging data - I compared if the data frames have the same column names and that the classes of these match\n",
    "# Loading the necessary packages \n",
    "library(skimr)\n",
    "library(janitor)\n",
    "compare_df_cols_same(August_2022, September_2022,October_2022, November_2022, December_2022, January_2023,February_2023, March_2023, April_2023, May_2023, June_2023, July_2023 )\n",
    "## True means here that the column are named equal and the type of variable are equal between columns"
   ]
  },
  {
   "cell_type": "markdown",
   "id": "8059d54f",
   "metadata": {},
   "source": [
    "### 2. Merging/joining the rows of the 12 data frames"
   ]
  },
  {
   "cell_type": "code",
   "execution_count": 5,
   "id": "7cba4f06",
   "metadata": {
    "scrolled": true
   },
   "outputs": [],
   "source": [
    "# 2. merging/joining the rows of the 12 data frames \n",
    "\n",
    "Cyclist_merged<- bind_rows(August_2022, September_2022, October_2022, November_2022, December_2022, January_2023,February_2023, March_2023, April_2023, May_2023, June_2023, July_2023)"
   ]
  },
  {
   "cell_type": "code",
   "execution_count": 6,
   "id": "d8cf0d08",
   "metadata": {},
   "outputs": [],
   "source": [
    "# removing the 12 created data franes for saving space in the Kernel\n",
    "rm(August_2022, September_2022, October_2022, November_2022, December_2022, January_2023,February_2023, March_2023, April_2023, May_2023, June_2023, July_2023)"
   ]
  },
  {
   "cell_type": "markdown",
   "id": "f7b96e1a",
   "metadata": {},
   "source": [
    "### 3. Checking for duplicates"
   ]
  },
  {
   "cell_type": "code",
   "execution_count": 7,
   "id": "320a9c48",
   "metadata": {
    "scrolled": true
   },
   "outputs": [
    {
     "name": "stdout",
     "output_type": "stream",
     "text": [
      "\u001b[90m# A tibble: 0 × 13\u001b[39m\n",
      "\u001b[90m# ℹ 13 variables: ride_id <chr>, rideable_type <chr>, started_at <dttm>,\u001b[39m\n",
      "\u001b[90m#   ended_at <dttm>, start_station_name <chr>, start_station_id <chr>,\u001b[39m\n",
      "\u001b[90m#   end_station_name <chr>, end_station_id <chr>, start_lat <dbl>,\u001b[39m\n",
      "\u001b[90m#   start_lng <dbl>, end_lat <dbl>, end_lng <dbl>, member_casual <chr>\u001b[39m\n"
     ]
    }
   ],
   "source": [
    "# 3. checking for duplicate data- in this case in the column \"ride_id\"\n",
    "\n",
    "# I Checked for duplicates in the \"ride_id\" column\n",
    "duplicates <- Cyclist_merged[duplicated(Cyclist_merged$ride_id), ]\n",
    "# View the rows with duplicate ride_id values\n",
    "print(duplicates)\n"
   ]
  },
  {
   "cell_type": "markdown",
   "id": "c58b68d6",
   "metadata": {},
   "source": [
    "- results showed that there is not duplicated ride ids, because the tible table has Cero rows"
   ]
  },
  {
   "cell_type": "markdown",
   "id": "07230d48",
   "metadata": {},
   "source": [
    "### 4. Checking for missing values"
   ]
  },
  {
   "cell_type": "code",
   "execution_count": 8,
   "id": "9f4ce24e",
   "metadata": {},
   "outputs": [
    {
     "data": {
      "text/html": [
       "<table class=\"dataframe\">\n",
       "<caption>A data.frame: 13 × 2</caption>\n",
       "<thead>\n",
       "\t<tr><th></th><th scope=col>Column</th><th scope=col>Missing_Count</th></tr>\n",
       "\t<tr><th></th><th scope=col>&lt;chr&gt;</th><th scope=col>&lt;dbl&gt;</th></tr>\n",
       "</thead>\n",
       "<tbody>\n",
       "\t<tr><th scope=row>ride_id</th><td>ride_id           </td><td>     0</td></tr>\n",
       "\t<tr><th scope=row>rideable_type</th><td>rideable_type     </td><td>     0</td></tr>\n",
       "\t<tr><th scope=row>started_at</th><td>started_at        </td><td>     0</td></tr>\n",
       "\t<tr><th scope=row>ended_at</th><td>ended_at          </td><td>     0</td></tr>\n",
       "\t<tr><th scope=row>start_station_name</th><td>start_station_name</td><td>868772</td></tr>\n",
       "\t<tr><th scope=row>start_station_id</th><td>start_station_id  </td><td>868904</td></tr>\n",
       "\t<tr><th scope=row>end_station_name</th><td>end_station_name  </td><td>925008</td></tr>\n",
       "\t<tr><th scope=row>end_station_id</th><td>end_station_id    </td><td>925149</td></tr>\n",
       "\t<tr><th scope=row>start_lat</th><td>start_lat         </td><td>     0</td></tr>\n",
       "\t<tr><th scope=row>start_lng</th><td>start_lng         </td><td>     0</td></tr>\n",
       "\t<tr><th scope=row>end_lat</th><td>end_lat           </td><td>  6102</td></tr>\n",
       "\t<tr><th scope=row>end_lng</th><td>end_lng           </td><td>  6102</td></tr>\n",
       "\t<tr><th scope=row>member_casual</th><td>member_casual     </td><td>     0</td></tr>\n",
       "</tbody>\n",
       "</table>\n"
      ],
      "text/latex": [
       "A data.frame: 13 × 2\n",
       "\\begin{tabular}{r|ll}\n",
       "  & Column & Missing\\_Count\\\\\n",
       "  & <chr> & <dbl>\\\\\n",
       "\\hline\n",
       "\tride\\_id & ride\\_id            &      0\\\\\n",
       "\trideable\\_type & rideable\\_type      &      0\\\\\n",
       "\tstarted\\_at & started\\_at         &      0\\\\\n",
       "\tended\\_at & ended\\_at           &      0\\\\\n",
       "\tstart\\_station\\_name & start\\_station\\_name & 868772\\\\\n",
       "\tstart\\_station\\_id & start\\_station\\_id   & 868904\\\\\n",
       "\tend\\_station\\_name & end\\_station\\_name   & 925008\\\\\n",
       "\tend\\_station\\_id & end\\_station\\_id     & 925149\\\\\n",
       "\tstart\\_lat & start\\_lat          &      0\\\\\n",
       "\tstart\\_lng & start\\_lng          &      0\\\\\n",
       "\tend\\_lat & end\\_lat            &   6102\\\\\n",
       "\tend\\_lng & end\\_lng            &   6102\\\\\n",
       "\tmember\\_casual & member\\_casual      &      0\\\\\n",
       "\\end{tabular}\n"
      ],
      "text/markdown": [
       "\n",
       "A data.frame: 13 × 2\n",
       "\n",
       "| <!--/--> | Column &lt;chr&gt; | Missing_Count &lt;dbl&gt; |\n",
       "|---|---|---|\n",
       "| ride_id | ride_id            |      0 |\n",
       "| rideable_type | rideable_type      |      0 |\n",
       "| started_at | started_at         |      0 |\n",
       "| ended_at | ended_at           |      0 |\n",
       "| start_station_name | start_station_name | 868772 |\n",
       "| start_station_id | start_station_id   | 868904 |\n",
       "| end_station_name | end_station_name   | 925008 |\n",
       "| end_station_id | end_station_id     | 925149 |\n",
       "| start_lat | start_lat          |      0 |\n",
       "| start_lng | start_lng          |      0 |\n",
       "| end_lat | end_lat            |   6102 |\n",
       "| end_lng | end_lng            |   6102 |\n",
       "| member_casual | member_casual      |      0 |\n",
       "\n"
      ],
      "text/plain": [
       "                   Column             Missing_Count\n",
       "ride_id            ride_id                 0       \n",
       "rideable_type      rideable_type           0       \n",
       "started_at         started_at              0       \n",
       "ended_at           ended_at                0       \n",
       "start_station_name start_station_name 868772       \n",
       "start_station_id   start_station_id   868904       \n",
       "end_station_name   end_station_name   925008       \n",
       "end_station_id     end_station_id     925149       \n",
       "start_lat          start_lat               0       \n",
       "start_lng          start_lng               0       \n",
       "end_lat            end_lat              6102       \n",
       "end_lng            end_lng              6102       \n",
       "member_casual      member_casual           0       "
      ]
     },
     "metadata": {},
     "output_type": "display_data"
    }
   ],
   "source": [
    "# 4. checking for missing values\n",
    "\n",
    "missing_counts <- colSums(is.na(Cyclist_merged))##to see missing values per column\n",
    "missing_counts_df <- data.frame(Column = names(missing_counts), Missing_Count = missing_counts)## to see it in a table\n",
    "missing_counts_df"
   ]
  },
  {
   "cell_type": "markdown",
   "id": "8e24cd5b",
   "metadata": {},
   "source": [
    "### 5. Removing missing values."
   ]
  },
  {
   "cell_type": "code",
   "execution_count": 9,
   "id": "a3bdd281",
   "metadata": {
    "scrolled": true
   },
   "outputs": [],
   "source": [
    "# 5. removing missing values.\n",
    "# I decided to remove the rows with missing values\n",
    "Cyclist_merged <- na.omit(Cyclist_merged)"
   ]
  },
  {
   "cell_type": "markdown",
   "id": "c1af1cec",
   "metadata": {},
   "source": [
    "### 6. Checking results after cleaning data"
   ]
  },
  {
   "cell_type": "code",
   "execution_count": 10,
   "id": "ac4f1245",
   "metadata": {
    "scrolled": true
   },
   "outputs": [
    {
     "name": "stdout",
     "output_type": "stream",
     "text": [
      "── Data Summary ────────────────────────\n",
      "                           Values        \n",
      "Name                       Cyclist_merged\n",
      "Number of rows             4340367       \n",
      "Number of columns          13            \n",
      "_______________________                  \n",
      "Column type frequency:                   \n",
      "  character                7             \n",
      "  numeric                  4             \n",
      "  POSIXct                  2             \n",
      "________________________                 \n",
      "Group variables            None          \n",
      "\n",
      "── Variable type: character ────────────────────────────────────────────────────\n",
      "  skim_variable      n_missing complete_rate min max empty n_unique whitespace\n",
      "\u001b[90m1\u001b[39m ride_id                    0             1  16  16     0  4\u001b[4m3\u001b[24m\u001b[4m4\u001b[24m\u001b[4m0\u001b[24m367          0\n",
      "\u001b[90m2\u001b[39m rideable_type              0             1  11  13     0        3          0\n",
      "\u001b[90m3\u001b[39m start_station_name         0             1   3  64     0     \u001b[4m1\u001b[24m678          0\n",
      "\u001b[90m4\u001b[39m start_station_id           0             1   3  35     0     \u001b[4m1\u001b[24m448          0\n",
      "\u001b[90m5\u001b[39m end_station_name           0             1   3  64     0     \u001b[4m1\u001b[24m702          0\n",
      "\u001b[90m6\u001b[39m end_station_id             0             1   3  36     0     \u001b[4m1\u001b[24m459          0\n",
      "\u001b[90m7\u001b[39m member_casual              0             1   6   6     0        2          0\n",
      "\n",
      "── Variable type: numeric ──────────────────────────────────────────────────────\n",
      "  skim_variable n_missing complete_rate  mean     sd    p0   p25   p50   p75\n",
      "\u001b[90m1\u001b[39m start_lat             0             1  41.9 0.042\u001b[4m8\u001b[24m  41.6  41.9  41.9  41.9\n",
      "\u001b[90m2\u001b[39m start_lng             0             1 -\u001b[31m87\u001b[39m\u001b[31m.\u001b[39m\u001b[31m6\u001b[39m 0.025\u001b[4m0\u001b[24m -\u001b[31m87\u001b[39m\u001b[31m.\u001b[39m\u001b[31m8\u001b[39m -\u001b[31m87\u001b[39m\u001b[31m.\u001b[39m\u001b[31m7\u001b[39m -\u001b[31m87\u001b[39m\u001b[31m.\u001b[39m\u001b[31m6\u001b[39m -\u001b[31m87\u001b[39m\u001b[31m.\u001b[39m\u001b[31m6\u001b[39m\n",
      "\u001b[90m3\u001b[39m end_lat               0             1  41.9 0.076\u001b[4m8\u001b[24m   0    41.9  41.9  41.9\n",
      "\u001b[90m4\u001b[39m end_lng               0             1 -\u001b[31m87\u001b[39m\u001b[31m.\u001b[39m\u001b[31m6\u001b[39m 0.135  -\u001b[31m87\u001b[39m\u001b[31m.\u001b[39m\u001b[31m8\u001b[39m -\u001b[31m87\u001b[39m\u001b[31m.\u001b[39m\u001b[31m7\u001b[39m -\u001b[31m87\u001b[39m\u001b[31m.\u001b[39m\u001b[31m6\u001b[39m -\u001b[31m87\u001b[39m\u001b[31m.\u001b[39m\u001b[31m6\u001b[39m\n",
      "   p100\n",
      "\u001b[90m1\u001b[39m  42.1\n",
      "\u001b[90m2\u001b[39m -\u001b[31m87\u001b[39m\u001b[31m.\u001b[39m\u001b[31m5\u001b[39m\n",
      "\u001b[90m3\u001b[39m  42.1\n",
      "\u001b[90m4\u001b[39m   0  \n",
      "\n",
      "── Variable type: POSIXct ──────────────────────────────────────────────────────\n",
      "  skim_variable n_missing complete_rate min                 max                \n",
      "\u001b[90m1\u001b[39m started_at            0             1 2022-08-01 \u001b[90m00:00:07\u001b[39m 2023-07-31 \u001b[90m23:59:15\u001b[39m\n",
      "\u001b[90m2\u001b[39m ended_at              0             1 2022-08-01 \u001b[90m00:05:44\u001b[39m 2023-08-01 \u001b[90m20:40:50\u001b[39m\n",
      "  median              n_unique\n",
      "\u001b[90m1\u001b[39m 2023-02-15 \u001b[90m06:53:05\u001b[39m  3\u001b[4m7\u001b[24m\u001b[4m9\u001b[24m\u001b[4m2\u001b[24m206\n",
      "\u001b[90m2\u001b[39m 2023-02-15 \u001b[90m07:01:25\u001b[39m  3\u001b[4m8\u001b[24m\u001b[4m0\u001b[24m\u001b[4m3\u001b[24m651\n"
     ]
    },
    {
     "name": "stderr",
     "output_type": "stream",
     "text": [
      "Warning message in is.null(text_repr) || nchar(text_repr) == 0L:\n",
      "\"'length(x) = 20 > 1' in coercion to 'logical(1)'\"\n"
     ]
    },
    {
     "data": {
      "text/html": [
       "<table class=\"dataframe\">\n",
       "<caption>A skim_df: 13 × 20</caption>\n",
       "<thead>\n",
       "\t<tr><th></th><th scope=col>skim_type</th><th scope=col>skim_variable</th><th scope=col>n_missing</th><th scope=col>complete_rate</th><th scope=col>POSIXct.min</th><th scope=col>POSIXct.max</th><th scope=col>POSIXct.median</th><th scope=col>POSIXct.n_unique</th><th scope=col>character.min</th><th scope=col>character.max</th><th scope=col>character.empty</th><th scope=col>character.n_unique</th><th scope=col>character.whitespace</th><th scope=col>numeric.mean</th><th scope=col>numeric.sd</th><th scope=col>numeric.p0</th><th scope=col>numeric.p25</th><th scope=col>numeric.p50</th><th scope=col>numeric.p75</th><th scope=col>numeric.p100</th></tr>\n",
       "\t<tr><th></th><th scope=col>&lt;chr&gt;</th><th scope=col>&lt;chr&gt;</th><th scope=col>&lt;int&gt;</th><th scope=col>&lt;dbl&gt;</th><th scope=col>&lt;dttm&gt;</th><th scope=col>&lt;dttm&gt;</th><th scope=col>&lt;dttm&gt;</th><th scope=col>&lt;int&gt;</th><th scope=col>&lt;int&gt;</th><th scope=col>&lt;int&gt;</th><th scope=col>&lt;int&gt;</th><th scope=col>&lt;int&gt;</th><th scope=col>&lt;int&gt;</th><th scope=col>&lt;dbl&gt;</th><th scope=col>&lt;dbl&gt;</th><th scope=col>&lt;dbl&gt;</th><th scope=col>&lt;dbl&gt;</th><th scope=col>&lt;dbl&gt;</th><th scope=col>&lt;dbl&gt;</th><th scope=col>&lt;dbl&gt;</th></tr>\n",
       "</thead>\n",
       "<tbody>\n",
       "\t<tr><th scope=row>1</th><td>POSIXct  </td><td>started_at        </td><td>0</td><td>1</td><td>2022-08-01 00:00:07</td><td>2023-07-31 23:59:15</td><td>2023-02-15 06:53:05</td><td>3792206</td><td>NA</td><td>NA</td><td>NA</td><td>     NA</td><td>NA</td><td>       NA</td><td>        NA</td><td>       NA</td><td>       NA</td><td>       NA</td><td>       NA</td><td>       NA</td></tr>\n",
       "\t<tr><th scope=row>2</th><td>POSIXct  </td><td>ended_at          </td><td>0</td><td>1</td><td>2022-08-01 00:05:44</td><td>2023-08-01 20:40:50</td><td>2023-02-15 07:01:25</td><td>3803651</td><td>NA</td><td>NA</td><td>NA</td><td>     NA</td><td>NA</td><td>       NA</td><td>        NA</td><td>       NA</td><td>       NA</td><td>       NA</td><td>       NA</td><td>       NA</td></tr>\n",
       "\t<tr><th scope=row>3</th><td>character</td><td>ride_id           </td><td>0</td><td>1</td><td>NA</td><td>NA</td><td>NA</td><td>     NA</td><td>16</td><td>16</td><td> 0</td><td>4340367</td><td> 0</td><td>       NA</td><td>        NA</td><td>       NA</td><td>       NA</td><td>       NA</td><td>       NA</td><td>       NA</td></tr>\n",
       "\t<tr><th scope=row>4</th><td>character</td><td>rideable_type     </td><td>0</td><td>1</td><td>NA</td><td>NA</td><td>NA</td><td>     NA</td><td>11</td><td>13</td><td> 0</td><td>      3</td><td> 0</td><td>       NA</td><td>        NA</td><td>       NA</td><td>       NA</td><td>       NA</td><td>       NA</td><td>       NA</td></tr>\n",
       "\t<tr><th scope=row>5</th><td>character</td><td>start_station_name</td><td>0</td><td>1</td><td>NA</td><td>NA</td><td>NA</td><td>     NA</td><td> 3</td><td>64</td><td> 0</td><td>   1678</td><td> 0</td><td>       NA</td><td>        NA</td><td>       NA</td><td>       NA</td><td>       NA</td><td>       NA</td><td>       NA</td></tr>\n",
       "\t<tr><th scope=row>6</th><td>character</td><td>start_station_id  </td><td>0</td><td>1</td><td>NA</td><td>NA</td><td>NA</td><td>     NA</td><td> 3</td><td>35</td><td> 0</td><td>   1448</td><td> 0</td><td>       NA</td><td>        NA</td><td>       NA</td><td>       NA</td><td>       NA</td><td>       NA</td><td>       NA</td></tr>\n",
       "\t<tr><th scope=row>7</th><td>character</td><td>end_station_name  </td><td>0</td><td>1</td><td>NA</td><td>NA</td><td>NA</td><td>     NA</td><td> 3</td><td>64</td><td> 0</td><td>   1702</td><td> 0</td><td>       NA</td><td>        NA</td><td>       NA</td><td>       NA</td><td>       NA</td><td>       NA</td><td>       NA</td></tr>\n",
       "\t<tr><th scope=row>8</th><td>character</td><td>end_station_id    </td><td>0</td><td>1</td><td>NA</td><td>NA</td><td>NA</td><td>     NA</td><td> 3</td><td>36</td><td> 0</td><td>   1459</td><td> 0</td><td>       NA</td><td>        NA</td><td>       NA</td><td>       NA</td><td>       NA</td><td>       NA</td><td>       NA</td></tr>\n",
       "\t<tr><th scope=row>9</th><td>character</td><td>member_casual     </td><td>0</td><td>1</td><td>NA</td><td>NA</td><td>NA</td><td>     NA</td><td> 6</td><td> 6</td><td> 0</td><td>      2</td><td> 0</td><td>       NA</td><td>        NA</td><td>       NA</td><td>       NA</td><td>       NA</td><td>       NA</td><td>       NA</td></tr>\n",
       "\t<tr><th scope=row>10</th><td>numeric  </td><td>start_lat         </td><td>0</td><td>1</td><td>NA</td><td>NA</td><td>NA</td><td>     NA</td><td>NA</td><td>NA</td><td>NA</td><td>     NA</td><td>NA</td><td> 41.90142</td><td>0.04279524</td><td> 41.64850</td><td> 41.88096</td><td> 41.89662</td><td> 41.92871</td><td> 42.06485</td></tr>\n",
       "\t<tr><th scope=row>11</th><td>numeric  </td><td>start_lng         </td><td>0</td><td>1</td><td>NA</td><td>NA</td><td>NA</td><td>     NA</td><td>NA</td><td>NA</td><td>NA</td><td>     NA</td><td>NA</td><td>-87.64495</td><td>0.02495401</td><td>-87.84402</td><td>-87.65814</td><td>-87.64182</td><td>-87.62872</td><td>-87.52823</td></tr>\n",
       "\t<tr><th scope=row>12</th><td>numeric  </td><td>end_lat           </td><td>0</td><td>1</td><td>NA</td><td>NA</td><td>NA</td><td>     NA</td><td>NA</td><td>NA</td><td>NA</td><td>     NA</td><td>NA</td><td> 41.90171</td><td>0.07675173</td><td>  0.00000</td><td> 41.88096</td><td> 41.89675</td><td> 41.92883</td><td> 42.06485</td></tr>\n",
       "\t<tr><th scope=row>13</th><td>numeric  </td><td>end_lng           </td><td>0</td><td>1</td><td>NA</td><td>NA</td><td>NA</td><td>     NA</td><td>NA</td><td>NA</td><td>NA</td><td>     NA</td><td>NA</td><td>-87.64502</td><td>0.13538473</td><td>-87.84406</td><td>-87.65862</td><td>-87.64288</td><td>-87.62915</td><td>  0.00000</td></tr>\n",
       "</tbody>\n",
       "</table>\n"
      ],
      "text/latex": [
       "A skim\\_df: 13 × 20\n",
       "\\begin{tabular}{r|llllllllllllllllllll}\n",
       "  & skim\\_type & skim\\_variable & n\\_missing & complete\\_rate & POSIXct.min & POSIXct.max & POSIXct.median & POSIXct.n\\_unique & character.min & character.max & character.empty & character.n\\_unique & character.whitespace & numeric.mean & numeric.sd & numeric.p0 & numeric.p25 & numeric.p50 & numeric.p75 & numeric.p100\\\\\n",
       "  & <chr> & <chr> & <int> & <dbl> & <dttm> & <dttm> & <dttm> & <int> & <int> & <int> & <int> & <int> & <int> & <dbl> & <dbl> & <dbl> & <dbl> & <dbl> & <dbl> & <dbl>\\\\\n",
       "\\hline\n",
       "\t1 & POSIXct   & started\\_at         & 0 & 1 & 2022-08-01 00:00:07 & 2023-07-31 23:59:15 & 2023-02-15 06:53:05 & 3792206 & NA & NA & NA &      NA & NA &        NA &         NA &        NA &        NA &        NA &        NA &        NA\\\\\n",
       "\t2 & POSIXct   & ended\\_at           & 0 & 1 & 2022-08-01 00:05:44 & 2023-08-01 20:40:50 & 2023-02-15 07:01:25 & 3803651 & NA & NA & NA &      NA & NA &        NA &         NA &        NA &        NA &        NA &        NA &        NA\\\\\n",
       "\t3 & character & ride\\_id            & 0 & 1 & NA & NA & NA &      NA & 16 & 16 &  0 & 4340367 &  0 &        NA &         NA &        NA &        NA &        NA &        NA &        NA\\\\\n",
       "\t4 & character & rideable\\_type      & 0 & 1 & NA & NA & NA &      NA & 11 & 13 &  0 &       3 &  0 &        NA &         NA &        NA &        NA &        NA &        NA &        NA\\\\\n",
       "\t5 & character & start\\_station\\_name & 0 & 1 & NA & NA & NA &      NA &  3 & 64 &  0 &    1678 &  0 &        NA &         NA &        NA &        NA &        NA &        NA &        NA\\\\\n",
       "\t6 & character & start\\_station\\_id   & 0 & 1 & NA & NA & NA &      NA &  3 & 35 &  0 &    1448 &  0 &        NA &         NA &        NA &        NA &        NA &        NA &        NA\\\\\n",
       "\t7 & character & end\\_station\\_name   & 0 & 1 & NA & NA & NA &      NA &  3 & 64 &  0 &    1702 &  0 &        NA &         NA &        NA &        NA &        NA &        NA &        NA\\\\\n",
       "\t8 & character & end\\_station\\_id     & 0 & 1 & NA & NA & NA &      NA &  3 & 36 &  0 &    1459 &  0 &        NA &         NA &        NA &        NA &        NA &        NA &        NA\\\\\n",
       "\t9 & character & member\\_casual      & 0 & 1 & NA & NA & NA &      NA &  6 &  6 &  0 &       2 &  0 &        NA &         NA &        NA &        NA &        NA &        NA &        NA\\\\\n",
       "\t10 & numeric   & start\\_lat          & 0 & 1 & NA & NA & NA &      NA & NA & NA & NA &      NA & NA &  41.90142 & 0.04279524 &  41.64850 &  41.88096 &  41.89662 &  41.92871 &  42.06485\\\\\n",
       "\t11 & numeric   & start\\_lng          & 0 & 1 & NA & NA & NA &      NA & NA & NA & NA &      NA & NA & -87.64495 & 0.02495401 & -87.84402 & -87.65814 & -87.64182 & -87.62872 & -87.52823\\\\\n",
       "\t12 & numeric   & end\\_lat            & 0 & 1 & NA & NA & NA &      NA & NA & NA & NA &      NA & NA &  41.90171 & 0.07675173 &   0.00000 &  41.88096 &  41.89675 &  41.92883 &  42.06485\\\\\n",
       "\t13 & numeric   & end\\_lng            & 0 & 1 & NA & NA & NA &      NA & NA & NA & NA &      NA & NA & -87.64502 & 0.13538473 & -87.84406 & -87.65862 & -87.64288 & -87.62915 &   0.00000\\\\\n",
       "\\end{tabular}\n"
      ],
      "text/markdown": [
       "\n",
       "A skim_df: 13 × 20\n",
       "\n",
       "| <!--/--> | skim_type &lt;chr&gt; | skim_variable &lt;chr&gt; | n_missing &lt;int&gt; | complete_rate &lt;dbl&gt; | POSIXct.min &lt;dttm&gt; | POSIXct.max &lt;dttm&gt; | POSIXct.median &lt;dttm&gt; | POSIXct.n_unique &lt;int&gt; | character.min &lt;int&gt; | character.max &lt;int&gt; | character.empty &lt;int&gt; | character.n_unique &lt;int&gt; | character.whitespace &lt;int&gt; | numeric.mean &lt;dbl&gt; | numeric.sd &lt;dbl&gt; | numeric.p0 &lt;dbl&gt; | numeric.p25 &lt;dbl&gt; | numeric.p50 &lt;dbl&gt; | numeric.p75 &lt;dbl&gt; | numeric.p100 &lt;dbl&gt; |\n",
       "|---|---|---|---|---|---|---|---|---|---|---|---|---|---|---|---|---|---|---|---|---|\n",
       "| 1 | POSIXct   | started_at         | 0 | 1 | 2022-08-01 00:00:07 | 2023-07-31 23:59:15 | 2023-02-15 06:53:05 | 3792206 | NA | NA | NA |      NA | NA |        NA |         NA |        NA |        NA |        NA |        NA |        NA |\n",
       "| 2 | POSIXct   | ended_at           | 0 | 1 | 2022-08-01 00:05:44 | 2023-08-01 20:40:50 | 2023-02-15 07:01:25 | 3803651 | NA | NA | NA |      NA | NA |        NA |         NA |        NA |        NA |        NA |        NA |        NA |\n",
       "| 3 | character | ride_id            | 0 | 1 | NA | NA | NA |      NA | 16 | 16 |  0 | 4340367 |  0 |        NA |         NA |        NA |        NA |        NA |        NA |        NA |\n",
       "| 4 | character | rideable_type      | 0 | 1 | NA | NA | NA |      NA | 11 | 13 |  0 |       3 |  0 |        NA |         NA |        NA |        NA |        NA |        NA |        NA |\n",
       "| 5 | character | start_station_name | 0 | 1 | NA | NA | NA |      NA |  3 | 64 |  0 |    1678 |  0 |        NA |         NA |        NA |        NA |        NA |        NA |        NA |\n",
       "| 6 | character | start_station_id   | 0 | 1 | NA | NA | NA |      NA |  3 | 35 |  0 |    1448 |  0 |        NA |         NA |        NA |        NA |        NA |        NA |        NA |\n",
       "| 7 | character | end_station_name   | 0 | 1 | NA | NA | NA |      NA |  3 | 64 |  0 |    1702 |  0 |        NA |         NA |        NA |        NA |        NA |        NA |        NA |\n",
       "| 8 | character | end_station_id     | 0 | 1 | NA | NA | NA |      NA |  3 | 36 |  0 |    1459 |  0 |        NA |         NA |        NA |        NA |        NA |        NA |        NA |\n",
       "| 9 | character | member_casual      | 0 | 1 | NA | NA | NA |      NA |  6 |  6 |  0 |       2 |  0 |        NA |         NA |        NA |        NA |        NA |        NA |        NA |\n",
       "| 10 | numeric   | start_lat          | 0 | 1 | NA | NA | NA |      NA | NA | NA | NA |      NA | NA |  41.90142 | 0.04279524 |  41.64850 |  41.88096 |  41.89662 |  41.92871 |  42.06485 |\n",
       "| 11 | numeric   | start_lng          | 0 | 1 | NA | NA | NA |      NA | NA | NA | NA |      NA | NA | -87.64495 | 0.02495401 | -87.84402 | -87.65814 | -87.64182 | -87.62872 | -87.52823 |\n",
       "| 12 | numeric   | end_lat            | 0 | 1 | NA | NA | NA |      NA | NA | NA | NA |      NA | NA |  41.90171 | 0.07675173 |   0.00000 |  41.88096 |  41.89675 |  41.92883 |  42.06485 |\n",
       "| 13 | numeric   | end_lng            | 0 | 1 | NA | NA | NA |      NA | NA | NA | NA |      NA | NA | -87.64502 | 0.13538473 | -87.84406 | -87.65862 | -87.64288 | -87.62915 |   0.00000 |\n",
       "\n"
      ]
     },
     "metadata": {},
     "output_type": "display_data"
    }
   ],
   "source": [
    "# 6. checking results after cleaning data\n",
    "\n",
    "skim_without_charts(Cyclist_merged)\n",
    "\n"
   ]
  },
  {
   "cell_type": "markdown",
   "id": "9f7cda74",
   "metadata": {},
   "source": [
    "- All variables show Cero in the n_missing parameter "
   ]
  },
  {
   "cell_type": "markdown",
   "id": "145bab94",
   "metadata": {},
   "source": [
    "### 7. Adding more variables "
   ]
  },
  {
   "cell_type": "markdown",
   "id": "25d06c59",
   "metadata": {},
   "source": [
    "#### 7.1. Creating a variable that calculates the length of a ride: *ride_length*"
   ]
  },
  {
   "cell_type": "code",
   "execution_count": 11,
   "id": "483fe67e",
   "metadata": {
    "scrolled": true
   },
   "outputs": [
    {
     "data": {
      "text/html": [
       "<table class=\"dataframe\">\n",
       "<caption>A tibble: 6 × 1</caption>\n",
       "<thead>\n",
       "\t<tr><th scope=col>ride_length</th></tr>\n",
       "\t<tr><th scope=col>&lt;drtn&gt;</th></tr>\n",
       "</thead>\n",
       "<tbody>\n",
       "\t<tr><td> 544 secs</td></tr>\n",
       "\t<tr><td>  45 secs</td></tr>\n",
       "\t<tr><td>3698 secs</td></tr>\n",
       "\t<tr><td> 858 secs</td></tr>\n",
       "\t<tr><td>5558 secs</td></tr>\n",
       "\t<tr><td>  10 secs</td></tr>\n",
       "</tbody>\n",
       "</table>\n"
      ],
      "text/latex": [
       "A tibble: 6 × 1\n",
       "\\begin{tabular}{l}\n",
       " ride\\_length\\\\\n",
       " <drtn>\\\\\n",
       "\\hline\n",
       "\t  544 secs\\\\\n",
       "\t   45 secs\\\\\n",
       "\t 3698 secs\\\\\n",
       "\t  858 secs\\\\\n",
       "\t 5558 secs\\\\\n",
       "\t   10 secs\\\\\n",
       "\\end{tabular}\n"
      ],
      "text/markdown": [
       "\n",
       "A tibble: 6 × 1\n",
       "\n",
       "| ride_length &lt;drtn&gt; |\n",
       "|---|\n",
       "|  544 secs |\n",
       "|   45 secs |\n",
       "| 3698 secs |\n",
       "|  858 secs |\n",
       "| 5558 secs |\n",
       "|   10 secs |\n",
       "\n"
      ],
      "text/plain": [
       "  ride_length\n",
       "1  544 secs  \n",
       "2   45 secs  \n",
       "3 3698 secs  \n",
       "4  858 secs  \n",
       "5 5558 secs  \n",
       "6   10 secs  "
      ]
     },
     "metadata": {},
     "output_type": "display_data"
    }
   ],
   "source": [
    "## Adding more variables \n",
    "\n",
    "# 7.1. I created a variable that calculate length of a ride: ride_length\n",
    "\n",
    "Cyclist_merged$ride_length <- difftime(Cyclist_merged$ended_at, Cyclist_merged$started_at)# thedefault units is seconds\n",
    "Cyclist_merged$ride_length <- round(Cyclist_merged$ride_length, digits = 1)# for having only one decimal place\n",
    "\n",
    "# checking the new variable\n",
    "Cyclist_merged%>% \n",
    "  select(ride_length)%>%\n",
    "  head()\n"
   ]
  },
  {
   "cell_type": "markdown",
   "id": "2d73e2ad",
   "metadata": {},
   "source": [
    "#### 7.2. Creating two new variables by separating the variable *started_at* into *started_date* and *started_time*"
   ]
  },
  {
   "cell_type": "code",
   "execution_count": 12,
   "id": "a0f88b12",
   "metadata": {
    "scrolled": true
   },
   "outputs": [
    {
     "data": {
      "text/html": [
       "<table class=\"dataframe\">\n",
       "<caption>A tibble: 6 × 1</caption>\n",
       "<thead>\n",
       "\t<tr><th scope=col>started_date</th></tr>\n",
       "\t<tr><th scope=col>&lt;date&gt;</th></tr>\n",
       "</thead>\n",
       "<tbody>\n",
       "\t<tr><td>2022-08-05</td></tr>\n",
       "\t<tr><td>2022-08-11</td></tr>\n",
       "\t<tr><td>2022-08-21</td></tr>\n",
       "\t<tr><td>2022-08-21</td></tr>\n",
       "\t<tr><td>2022-08-21</td></tr>\n",
       "\t<tr><td>2022-08-19</td></tr>\n",
       "</tbody>\n",
       "</table>\n"
      ],
      "text/latex": [
       "A tibble: 6 × 1\n",
       "\\begin{tabular}{l}\n",
       " started\\_date\\\\\n",
       " <date>\\\\\n",
       "\\hline\n",
       "\t 2022-08-05\\\\\n",
       "\t 2022-08-11\\\\\n",
       "\t 2022-08-21\\\\\n",
       "\t 2022-08-21\\\\\n",
       "\t 2022-08-21\\\\\n",
       "\t 2022-08-19\\\\\n",
       "\\end{tabular}\n"
      ],
      "text/markdown": [
       "\n",
       "A tibble: 6 × 1\n",
       "\n",
       "| started_date &lt;date&gt; |\n",
       "|---|\n",
       "| 2022-08-05 |\n",
       "| 2022-08-11 |\n",
       "| 2022-08-21 |\n",
       "| 2022-08-21 |\n",
       "| 2022-08-21 |\n",
       "| 2022-08-19 |\n",
       "\n"
      ],
      "text/plain": [
       "  started_date\n",
       "1 2022-08-05  \n",
       "2 2022-08-11  \n",
       "3 2022-08-21  \n",
       "4 2022-08-21  \n",
       "5 2022-08-21  \n",
       "6 2022-08-19  "
      ]
     },
     "metadata": {},
     "output_type": "display_data"
    },
    {
     "data": {
      "text/html": [
       "<table class=\"dataframe\">\n",
       "<caption>A tibble: 6 × 1</caption>\n",
       "<thead>\n",
       "\t<tr><th scope=col>started_time</th></tr>\n",
       "\t<tr><th scope=col>&lt;chr&gt;</th></tr>\n",
       "</thead>\n",
       "<tbody>\n",
       "\t<tr><td>16:13:36</td></tr>\n",
       "\t<tr><td>23:30:11</td></tr>\n",
       "\t<tr><td>14:09:08</td></tr>\n",
       "\t<tr><td>16:15:12</td></tr>\n",
       "\t<tr><td>02:11:26</td></tr>\n",
       "\t<tr><td>21:40:21</td></tr>\n",
       "</tbody>\n",
       "</table>\n"
      ],
      "text/latex": [
       "A tibble: 6 × 1\n",
       "\\begin{tabular}{l}\n",
       " started\\_time\\\\\n",
       " <chr>\\\\\n",
       "\\hline\n",
       "\t 16:13:36\\\\\n",
       "\t 23:30:11\\\\\n",
       "\t 14:09:08\\\\\n",
       "\t 16:15:12\\\\\n",
       "\t 02:11:26\\\\\n",
       "\t 21:40:21\\\\\n",
       "\\end{tabular}\n"
      ],
      "text/markdown": [
       "\n",
       "A tibble: 6 × 1\n",
       "\n",
       "| started_time &lt;chr&gt; |\n",
       "|---|\n",
       "| 16:13:36 |\n",
       "| 23:30:11 |\n",
       "| 14:09:08 |\n",
       "| 16:15:12 |\n",
       "| 02:11:26 |\n",
       "| 21:40:21 |\n",
       "\n"
      ],
      "text/plain": [
       "  started_time\n",
       "1 16:13:36    \n",
       "2 23:30:11    \n",
       "3 14:09:08    \n",
       "4 16:15:12    \n",
       "5 02:11:26    \n",
       "6 21:40:21    "
      ]
     },
     "metadata": {},
     "output_type": "display_data"
    }
   ],
   "source": [
    "\n",
    "\n",
    "#7.2. I created two new variables by separating the column \"started_at\" into \"started_date\" and \"started_time\"\n",
    "\n",
    "Cyclist_merged$started_date <- as.Date(Cyclist_merged$started_at)\n",
    "Cyclist_merged$started_time <- format(as.POSIXct(Cyclist_merged$started_at),format= \"%H:%M:%S\")\n",
    "\n",
    "# checking the new variables\n",
    "Cyclist_merged%>%\n",
    "  select(started_date)%>%\n",
    "  head()\n",
    "\n",
    "Cyclist_merged%>%\n",
    "  select(started_time)%>%\n",
    "  head()"
   ]
  },
  {
   "cell_type": "markdown",
   "id": "30d6510f",
   "metadata": {},
   "source": [
    "#### 7.3. Creating the column *day_of_week*, in which is calculated the day of the week that each ride startet (1= sunday, and 7= saturday)"
   ]
  },
  {
   "cell_type": "code",
   "execution_count": 13,
   "id": "432cf21b",
   "metadata": {
    "scrolled": true
   },
   "outputs": [
    {
     "data": {
      "text/html": [
       "'en_US'"
      ],
      "text/latex": [
       "'en\\_US'"
      ],
      "text/markdown": [
       "'en_US'"
      ],
      "text/plain": [
       "[1] \"en_US\""
      ]
     },
     "metadata": {},
     "output_type": "display_data"
    },
    {
     "data": {
      "text/html": [
       "'en_US'"
      ],
      "text/latex": [
       "'en\\_US'"
      ],
      "text/markdown": [
       "'en_US'"
      ],
      "text/plain": [
       "[1] \"en_US\""
      ]
     },
     "metadata": {},
     "output_type": "display_data"
    },
    {
     "data": {
      "text/html": [
       "<table class=\"dataframe\">\n",
       "<caption>A tibble: 6 × 1</caption>\n",
       "<thead>\n",
       "\t<tr><th scope=col>day_of_week</th></tr>\n",
       "\t<tr><th scope=col>&lt;ord&gt;</th></tr>\n",
       "</thead>\n",
       "<tbody>\n",
       "\t<tr><td>Fri</td></tr>\n",
       "\t<tr><td>Thu</td></tr>\n",
       "\t<tr><td>Sun</td></tr>\n",
       "\t<tr><td>Sun</td></tr>\n",
       "\t<tr><td>Sun</td></tr>\n",
       "\t<tr><td>Fri</td></tr>\n",
       "</tbody>\n",
       "</table>\n"
      ],
      "text/latex": [
       "A tibble: 6 × 1\n",
       "\\begin{tabular}{l}\n",
       " day\\_of\\_week\\\\\n",
       " <ord>\\\\\n",
       "\\hline\n",
       "\t Fri\\\\\n",
       "\t Thu\\\\\n",
       "\t Sun\\\\\n",
       "\t Sun\\\\\n",
       "\t Sun\\\\\n",
       "\t Fri\\\\\n",
       "\\end{tabular}\n"
      ],
      "text/markdown": [
       "\n",
       "A tibble: 6 × 1\n",
       "\n",
       "| day_of_week &lt;ord&gt; |\n",
       "|---|\n",
       "| Fri |\n",
       "| Thu |\n",
       "| Sun |\n",
       "| Sun |\n",
       "| Sun |\n",
       "| Fri |\n",
       "\n"
      ],
      "text/plain": [
       "  day_of_week\n",
       "1 Fri        \n",
       "2 Thu        \n",
       "3 Sun        \n",
       "4 Sun        \n",
       "5 Sun        \n",
       "6 Fri        "
      ]
     },
     "metadata": {},
     "output_type": "display_data"
    }
   ],
   "source": [
    "# 7.3. Create the column \"day_of_week\", in which is calculated the day of the week that each ride startet\n",
    "# 1= sunday, and 7= saturday\n",
    "\n",
    "# before this is important to set the local time in this case english\n",
    "Sys.setlocale(\"LC_TIME\", \"en_US\")\n",
    "# checking the local time\n",
    "Sys.getlocale(\"LC_TIME\") \n",
    "\n",
    "# creating the new variable\n",
    "Cyclist_merged$day_of_week <- wday(Cyclist_merged$started_at, label = TRUE)\n",
    "\n",
    "# checking the new variable\n",
    "Cyclist_merged%>%\n",
    "  select(day_of_week)%>%\n",
    "  head()\n"
   ]
  },
  {
   "cell_type": "markdown",
   "id": "0b0a6488",
   "metadata": {},
   "source": [
    "#### 7.4. Checking if the data frame have the 4 new columns (ride_length, started_date, started_time and day_of_week) I added"
   ]
  },
  {
   "cell_type": "code",
   "execution_count": 14,
   "id": "19b3c125",
   "metadata": {
    "scrolled": true
   },
   "outputs": [
    {
     "data": {
      "text/html": [
       "<style>\n",
       ".list-inline {list-style: none; margin:0; padding: 0}\n",
       ".list-inline>li {display: inline-block}\n",
       ".list-inline>li:not(:last-child)::after {content: \"\\00b7\"; padding: 0 .5ex}\n",
       "</style>\n",
       "<ol class=list-inline><li>'ride_id'</li><li>'rideable_type'</li><li>'started_at'</li><li>'ended_at'</li><li>'start_station_name'</li><li>'start_station_id'</li><li>'end_station_name'</li><li>'end_station_id'</li><li>'start_lat'</li><li>'start_lng'</li><li>'end_lat'</li><li>'end_lng'</li><li>'member_casual'</li><li>'ride_length'</li><li>'started_date'</li><li>'started_time'</li><li>'day_of_week'</li></ol>\n"
      ],
      "text/latex": [
       "\\begin{enumerate*}\n",
       "\\item 'ride\\_id'\n",
       "\\item 'rideable\\_type'\n",
       "\\item 'started\\_at'\n",
       "\\item 'ended\\_at'\n",
       "\\item 'start\\_station\\_name'\n",
       "\\item 'start\\_station\\_id'\n",
       "\\item 'end\\_station\\_name'\n",
       "\\item 'end\\_station\\_id'\n",
       "\\item 'start\\_lat'\n",
       "\\item 'start\\_lng'\n",
       "\\item 'end\\_lat'\n",
       "\\item 'end\\_lng'\n",
       "\\item 'member\\_casual'\n",
       "\\item 'ride\\_length'\n",
       "\\item 'started\\_date'\n",
       "\\item 'started\\_time'\n",
       "\\item 'day\\_of\\_week'\n",
       "\\end{enumerate*}\n"
      ],
      "text/markdown": [
       "1. 'ride_id'\n",
       "2. 'rideable_type'\n",
       "3. 'started_at'\n",
       "4. 'ended_at'\n",
       "5. 'start_station_name'\n",
       "6. 'start_station_id'\n",
       "7. 'end_station_name'\n",
       "8. 'end_station_id'\n",
       "9. 'start_lat'\n",
       "10. 'start_lng'\n",
       "11. 'end_lat'\n",
       "12. 'end_lng'\n",
       "13. 'member_casual'\n",
       "14. 'ride_length'\n",
       "15. 'started_date'\n",
       "16. 'started_time'\n",
       "17. 'day_of_week'\n",
       "\n",
       "\n"
      ],
      "text/plain": [
       " [1] \"ride_id\"            \"rideable_type\"      \"started_at\"        \n",
       " [4] \"ended_at\"           \"start_station_name\" \"start_station_id\"  \n",
       " [7] \"end_station_name\"   \"end_station_id\"     \"start_lat\"         \n",
       "[10] \"start_lng\"          \"end_lat\"            \"end_lng\"           \n",
       "[13] \"member_casual\"      \"ride_length\"        \"started_date\"      \n",
       "[16] \"started_time\"       \"day_of_week\"       "
      ]
     },
     "metadata": {},
     "output_type": "display_data"
    }
   ],
   "source": [
    "#7.4. checking if the data have the 4 new columns (ride_length, started_date, started_time and day_of_week) I added\n",
    "\n",
    "colnames(Cyclist_merged)##checking the columns"
   ]
  },
  {
   "cell_type": "markdown",
   "id": "f8a9a07e",
   "metadata": {},
   "source": [
    "## Analyze: A summary of the analysis"
   ]
  },
  {
   "cell_type": "markdown",
   "id": "c4383628",
   "metadata": {},
   "source": [
    "### 1. Analyzing the variable ride_length"
   ]
  },
  {
   "cell_type": "code",
   "execution_count": 15,
   "id": "b1a83749",
   "metadata": {
    "scrolled": false
   },
   "outputs": [
    {
     "data": {
      "text/plain": [
       "    Min.  1st Qu.   Median     Mean  3rd Qu.     Max. \n",
       "-10122.0    340.0    593.0    954.6   1058.0 728178.0 "
      ]
     },
     "metadata": {},
     "output_type": "display_data"
    }
   ],
   "source": [
    "\n",
    "# Firstly, I changed the variable's data type from 'difftime' to 'numeric' to improve its compatibility and usability.\n",
    "\n",
    "Cyclist_merged$ride_length <- as.numeric(Cyclist_merged$ride_length)\n",
    "# Summary of the variable ride_length\n",
    "summary(Cyclist_merged$ride_length)"
   ]
  },
  {
   "cell_type": "markdown",
   "id": "83158b85",
   "metadata": {},
   "source": [
    "- *Explain result*"
   ]
  },
  {
   "cell_type": "code",
   "execution_count": 16,
   "id": "5a58450b",
   "metadata": {
    "scrolled": true
   },
   "outputs": [
    {
     "name": "stdout",
     "output_type": "stream",
     "text": [
      "\u001b[90m# A tibble: 65 × 17\u001b[39m\n",
      "   ride_id          rideable_type started_at          ended_at           \n",
      "   \u001b[3m\u001b[90m<chr>\u001b[39m\u001b[23m            \u001b[3m\u001b[90m<chr>\u001b[39m\u001b[23m         \u001b[3m\u001b[90m<dttm>\u001b[39m\u001b[23m              \u001b[3m\u001b[90m<dttm>\u001b[39m\u001b[23m             \n",
      "\u001b[90m 1\u001b[39m BD0B84E552536029 electric_bike 2022-08-01 \u001b[90m13:21:10\u001b[39m 2022-08-01 \u001b[90m13:21:05\u001b[39m\n",
      "\u001b[90m 2\u001b[39m 3D99C9D3AB75E23F electric_bike 2022-08-22 \u001b[90m13:05:10\u001b[39m 2022-08-22 \u001b[90m13:04:48\u001b[39m\n",
      "\u001b[90m 3\u001b[39m 179F7874064251C8 classic_bike  2022-08-05 \u001b[90m16:35:21\u001b[39m 2022-08-05 \u001b[90m16:35:20\u001b[39m\n",
      "\u001b[90m 4\u001b[39m C0C8DB0E2EA5B9E4 electric_bike 2022-08-25 \u001b[90m00:40:51\u001b[39m 2022-08-25 \u001b[90m00:39:34\u001b[39m\n",
      "\u001b[90m 5\u001b[39m 953BF4B707AEE983 electric_bike 2022-08-27 \u001b[90m12:44:27\u001b[39m 2022-08-27 \u001b[90m12:43:39\u001b[39m\n",
      "\u001b[90m 6\u001b[39m EF40941641F68C81 electric_bike 2022-08-09 \u001b[90m20:51:36\u001b[39m 2022-08-09 \u001b[90m20:51:31\u001b[39m\n",
      "\u001b[90m 7\u001b[39m 93A74DBF339CC818 electric_bike 2022-08-25 \u001b[90m00:39:58\u001b[39m 2022-08-25 \u001b[90m00:37:39\u001b[39m\n",
      "\u001b[90m 8\u001b[39m A13F8B7BD207AF09 electric_bike 2022-08-27 \u001b[90m13:16:02\u001b[39m 2022-08-27 \u001b[90m13:13:35\u001b[39m\n",
      "\u001b[90m 9\u001b[39m AD5D938B278C2D58 electric_bike 2022-08-27 \u001b[90m13:18:18\u001b[39m 2022-08-27 \u001b[90m13:13:35\u001b[39m\n",
      "\u001b[90m10\u001b[39m A2991D490436A806 electric_bike 2022-08-27 \u001b[90m13:18:54\u001b[39m 2022-08-27 \u001b[90m13:15:58\u001b[39m\n",
      "\u001b[90m# ℹ 55 more rows\u001b[39m\n",
      "\u001b[90m# ℹ 13 more variables: start_station_name <chr>, start_station_id <chr>,\u001b[39m\n",
      "\u001b[90m#   end_station_name <chr>, end_station_id <chr>, start_lat <dbl>,\u001b[39m\n",
      "\u001b[90m#   start_lng <dbl>, end_lat <dbl>, end_lng <dbl>, member_casual <chr>,\u001b[39m\n",
      "\u001b[90m#   ride_length <dbl>, started_date <date>, started_time <chr>,\u001b[39m\n",
      "\u001b[90m#   day_of_week <ord>\u001b[39m\n"
     ]
    }
   ],
   "source": [
    "# Finding the negative values\n",
    "negative_time_rows <- Cyclist_merged[Cyclist_merged$ride_length < 0, ]\n",
    "# Print the rows with negative time differences\n",
    "print(negative_time_rows)"
   ]
  },
  {
   "cell_type": "markdown",
   "id": "d61be956",
   "metadata": {},
   "source": [
    "- The results indicate that 65 rows in the 'ride_length' variable contain negative values. Negative values in this context imply that the end time of a ride is earlier than the start time, which is logically impossible. Therefore, these particular rows were identified and subsequently removed from the analysis the analysis"
   ]
  },
  {
   "cell_type": "code",
   "execution_count": 17,
   "id": "b3116f81",
   "metadata": {
    "scrolled": true
   },
   "outputs": [
    {
     "data": {
      "text/plain": [
       "    Min.  1st Qu.   Median     Mean  3rd Qu.     Max. \n",
       "     0.0    340.0    593.0    954.6   1058.0 728178.0 "
      ]
     },
     "metadata": {},
     "output_type": "display_data"
    }
   ],
   "source": [
    "# removing the rows in which ride length is lower than cero seconds and checking the data\n",
    "Cyclist_merged <- Cyclist_merged[Cyclist_merged$ride_length >= 0, ]\n",
    "summary(Cyclist_merged$ride_length)"
   ]
  },
  {
   "cell_type": "markdown",
   "id": "9ee83d6f",
   "metadata": {},
   "source": [
    "It has been observed that some users rented the bike for a duration of 0 seconds. This finding may suggest potential issues with data recording. Therefore, as a precautionary measure, all data entries with a duration of less than 1 minute will be excluded from the analysis"
   ]
  },
  {
   "cell_type": "code",
   "execution_count": 18,
   "id": "06fd858b",
   "metadata": {
    "scrolled": true
   },
   "outputs": [
    {
     "data": {
      "text/plain": [
       "    Min.  1st Qu.   Median     Mean  3rd Qu.     Max. \n",
       "    60.0    353.0    606.0    974.4   1074.0 728178.0 "
      ]
     },
     "metadata": {},
     "output_type": "display_data"
    }
   ],
   "source": [
    "# I removing the users that rented less than 1 minutes = 60 seconds and checking the new data\n",
    "\n",
    "Cyclist_merged <- Cyclist_merged[Cyclist_merged$ride_length >= 60, ]\n",
    "summary(Cyclist_merged$ride_length)"
   ]
  },
  {
   "cell_type": "markdown",
   "id": "4a30bdb0",
   "metadata": {},
   "source": [
    "### 2. Running some calculations"
   ]
  },
  {
   "cell_type": "code",
   "execution_count": 19,
   "id": "3723b3f5",
   "metadata": {
    "scrolled": true
   },
   "outputs": [
    {
     "data": {
      "text/plain": [
       "   ride_id          rideable_type        started_at                    \n",
       " Length:4250047     Length:4250047     Min.   :2022-08-01 00:00:07.00  \n",
       " Class :character   Class :character   1st Qu.:2022-09-27 13:06:22.00  \n",
       " Mode  :character   Mode  :character   Median :2023-02-14 15:29:31.00  \n",
       "                                       Mean   :2023-02-01 03:34:29.95  \n",
       "                                       3rd Qu.:2023-06-02 13:09:46.00  \n",
       "                                       Max.   :2023-07-31 23:59:15.00  \n",
       "                                                                       \n",
       "    ended_at                      start_station_name start_station_id  \n",
       " Min.   :2022-08-01 00:05:44.00   Length:4250047     Length:4250047    \n",
       " 1st Qu.:2022-09-27 13:18:22.00   Class :character   Class :character  \n",
       " Median :2023-02-14 15:40:44.00   Mode  :character   Mode  :character  \n",
       " Mean   :2023-02-01 03:50:44.31                                        \n",
       " 3rd Qu.:2023-06-02 13:28:43.00                                        \n",
       " Max.   :2023-08-01 20:40:50.00                                        \n",
       "                                                                       \n",
       " end_station_name   end_station_id       start_lat       start_lng     \n",
       " Length:4250047     Length:4250047     Min.   :41.65   Min.   :-87.84  \n",
       " Class :character   Class :character   1st Qu.:41.88   1st Qu.:-87.66  \n",
       " Mode  :character   Mode  :character   Median :41.90   Median :-87.64  \n",
       "                                       Mean   :41.90   Mean   :-87.64  \n",
       "                                       3rd Qu.:41.93   3rd Qu.:-87.63  \n",
       "                                       Max.   :42.06   Max.   :-87.53  \n",
       "                                                                       \n",
       "    end_lat         end_lng       member_casual       ride_length      \n",
       " Min.   : 0.00   Min.   :-87.84   Length:4250047     Min.   :    60.0  \n",
       " 1st Qu.:41.88   1st Qu.:-87.66   Class :character   1st Qu.:   353.0  \n",
       " Median :41.90   Median :-87.64   Mode  :character   Median :   606.0  \n",
       " Mean   :41.90   Mean   :-87.64                      Mean   :   974.4  \n",
       " 3rd Qu.:41.93   3rd Qu.:-87.63                      3rd Qu.:  1074.0  \n",
       " Max.   :42.06   Max.   :  0.00                      Max.   :728178.0  \n",
       "                                                                       \n",
       "  started_date        started_time       day_of_week \n",
       " Min.   :2022-08-01   Length:4250047     Sun:531773  \n",
       " 1st Qu.:2022-09-27   Class :character   Mon:572999  \n",
       " Median :2023-02-14   Mode  :character   Tue:608026  \n",
       " Mean   :2023-01-31                      Wed:619439  \n",
       " 3rd Qu.:2023-06-02                      Thu:638134  \n",
       " Max.   :2023-07-31                      Fri:622442  \n",
       "                                         Sat:657234  "
      ]
     },
     "metadata": {},
     "output_type": "display_data"
    }
   ],
   "source": [
    "# Performing descriptive analysis of the data\n",
    "summary(Cyclist_merged)"
   ]
  },
  {
   "cell_type": "code",
   "execution_count": 20,
   "id": "8030d5f8",
   "metadata": {
    "scrolled": true
   },
   "outputs": [
    {
     "data": {
      "text/html": [
       "16.2394924063977"
      ],
      "text/latex": [
       "16.2394924063977"
      ],
      "text/markdown": [
       "16.2394924063977"
      ],
      "text/plain": [
       "[1] 16.23949"
      ]
     },
     "metadata": {},
     "output_type": "display_data"
    }
   ],
   "source": [
    "# calculating the mean of ride_length (in minutes)\n",
    "\n",
    "mean(Cyclist_merged$ride_length)/60 "
   ]
  },
  {
   "cell_type": "code",
   "execution_count": 21,
   "id": "5cf71089",
   "metadata": {
    "scrolled": true
   },
   "outputs": [
    {
     "data": {
      "text/html": [
       "12136.3"
      ],
      "text/latex": [
       "12136.3"
      ],
      "text/markdown": [
       "12136.3"
      ],
      "text/plain": [
       "[1] 12136.3"
      ]
     },
     "metadata": {},
     "output_type": "display_data"
    }
   ],
   "source": [
    "# Calculate the max ride_length (in minutes)\n",
    "\n",
    "max(Cyclist_merged$ride_length)/60 #in minutes"
   ]
  },
  {
   "cell_type": "code",
   "execution_count": 22,
   "id": "aaa9ea65",
   "metadata": {
    "scrolled": false
   },
   "outputs": [
    {
     "name": "stdout",
     "output_type": "stream",
     "text": [
      "[1] \"Sat\"\n"
     ]
    }
   ],
   "source": [
    "# Calculate the mode of the 'day_of_week' variable\n",
    "# It means which day has the most number of rented bykes\n",
    "day_of_week_mode <- names(sort(table(Cyclist_merged$day_of_week), decreasing = TRUE)[1])\n",
    "# Print the mode\n",
    "print(day_of_week_mode)"
   ]
  },
  {
   "cell_type": "markdown",
   "id": "0d82c8a8",
   "metadata": {},
   "source": [
    "- *explain*"
   ]
  },
  {
   "cell_type": "code",
   "execution_count": 23,
   "id": "988bbf65",
   "metadata": {
    "scrolled": true
   },
   "outputs": [
    {
     "data": {
      "text/html": [
       "<table class=\"dataframe\">\n",
       "<caption>A tibble: 2 × 3</caption>\n",
       "<thead>\n",
       "\t<tr><th scope=col>member_casual</th><th scope=col>mean_ride_length</th><th scope=col>frequency</th></tr>\n",
       "\t<tr><th scope=col>&lt;chr&gt;</th><th scope=col>&lt;dbl&gt;</th><th scope=col>&lt;int&gt;</th></tr>\n",
       "</thead>\n",
       "<tbody>\n",
       "\t<tr><td>casual</td><td>22.80021</td><td>1581016</td></tr>\n",
       "\t<tr><td>member</td><td>12.35321</td><td>2669031</td></tr>\n",
       "</tbody>\n",
       "</table>\n"
      ],
      "text/latex": [
       "A tibble: 2 × 3\n",
       "\\begin{tabular}{lll}\n",
       " member\\_casual & mean\\_ride\\_length & frequency\\\\\n",
       " <chr> & <dbl> & <int>\\\\\n",
       "\\hline\n",
       "\t casual & 22.80021 & 1581016\\\\\n",
       "\t member & 12.35321 & 2669031\\\\\n",
       "\\end{tabular}\n"
      ],
      "text/markdown": [
       "\n",
       "A tibble: 2 × 3\n",
       "\n",
       "| member_casual &lt;chr&gt; | mean_ride_length &lt;dbl&gt; | frequency &lt;int&gt; |\n",
       "|---|---|---|\n",
       "| casual | 22.80021 | 1581016 |\n",
       "| member | 12.35321 | 2669031 |\n",
       "\n"
      ],
      "text/plain": [
       "  member_casual mean_ride_length frequency\n",
       "1 casual        22.80021         1581016  \n",
       "2 member        12.35321         2669031  "
      ]
     },
     "metadata": {},
     "output_type": "display_data"
    }
   ],
   "source": [
    "# mean of ride_length (in minutes) by type of user\n",
    "\n",
    "Cyclist_merged %>% # in minutes\n",
    "  group_by(member_casual) %>%\n",
    "  summarise(mean_ride_length= mean(ride_length)/60, frequency = n())"
   ]
  },
  {
   "cell_type": "markdown",
   "id": "3c37e200",
   "metadata": {},
   "source": [
    "- *explain*"
   ]
  },
  {
   "cell_type": "code",
   "execution_count": 24,
   "id": "08503b68",
   "metadata": {
    "scrolled": true
   },
   "outputs": [
    {
     "data": {
      "text/html": [
       "<table class=\"dataframe\">\n",
       "<caption>A data.frame: 2 × 2</caption>\n",
       "<thead>\n",
       "\t<tr><th scope=col>member_casual</th><th scope=col>max_ride_length</th></tr>\n",
       "\t<tr><th scope=col>&lt;chr&gt;</th><th scope=col>&lt;dbl&gt;</th></tr>\n",
       "</thead>\n",
       "<tbody>\n",
       "\t<tr><td>casual</td><td>12136.300</td></tr>\n",
       "\t<tr><td>member</td><td> 1497.867</td></tr>\n",
       "</tbody>\n",
       "</table>\n"
      ],
      "text/latex": [
       "A data.frame: 2 × 2\n",
       "\\begin{tabular}{ll}\n",
       " member\\_casual & max\\_ride\\_length\\\\\n",
       " <chr> & <dbl>\\\\\n",
       "\\hline\n",
       "\t casual & 12136.300\\\\\n",
       "\t member &  1497.867\\\\\n",
       "\\end{tabular}\n"
      ],
      "text/markdown": [
       "\n",
       "A data.frame: 2 × 2\n",
       "\n",
       "| member_casual &lt;chr&gt; | max_ride_length &lt;dbl&gt; |\n",
       "|---|---|\n",
       "| casual | 12136.300 |\n",
       "| member |  1497.867 |\n",
       "\n"
      ],
      "text/plain": [
       "  member_casual max_ride_length\n",
       "1 casual        12136.300      \n",
       "2 member         1497.867      "
      ]
     },
     "metadata": {},
     "output_type": "display_data"
    },
    {
     "data": {
      "text/html": [
       "<table class=\"dataframe\">\n",
       "<caption>A data.frame: 2 × 2</caption>\n",
       "<thead>\n",
       "\t<tr><th scope=col>member_casual</th><th scope=col>min_ride_length</th></tr>\n",
       "\t<tr><th scope=col>&lt;chr&gt;</th><th scope=col>&lt;dbl&gt;</th></tr>\n",
       "</thead>\n",
       "<tbody>\n",
       "\t<tr><td>casual</td><td>1</td></tr>\n",
       "\t<tr><td>member</td><td>1</td></tr>\n",
       "</tbody>\n",
       "</table>\n"
      ],
      "text/latex": [
       "A data.frame: 2 × 2\n",
       "\\begin{tabular}{ll}\n",
       " member\\_casual & min\\_ride\\_length\\\\\n",
       " <chr> & <dbl>\\\\\n",
       "\\hline\n",
       "\t casual & 1\\\\\n",
       "\t member & 1\\\\\n",
       "\\end{tabular}\n"
      ],
      "text/markdown": [
       "\n",
       "A data.frame: 2 × 2\n",
       "\n",
       "| member_casual &lt;chr&gt; | min_ride_length &lt;dbl&gt; |\n",
       "|---|---|\n",
       "| casual | 1 |\n",
       "| member | 1 |\n",
       "\n"
      ],
      "text/plain": [
       "  member_casual min_ride_length\n",
       "1 casual        1              \n",
       "2 member        1              "
      ]
     },
     "metadata": {},
     "output_type": "display_data"
    }
   ],
   "source": [
    "# maximum  and minimum ride lengths by type of user (in minutes)\n",
    "\n",
    "Cyclist_merged %>%\n",
    "  aggregate(ride_length ~ member_casual, FUN = function(x) max(x)/60)%>%\n",
    "  rename(max_ride_length = ride_length)\n",
    " \n",
    "Cyclist_merged %>%\n",
    "  aggregate(ride_length ~ member_casual, FUN = function (x) min(x)/60)%>%\n",
    "  rename(min_ride_length = ride_length)"
   ]
  },
  {
   "cell_type": "markdown",
   "id": "8d9452a6",
   "metadata": {},
   "source": [
    "- *explain*"
   ]
  },
  {
   "cell_type": "code",
   "execution_count": 25,
   "id": "433b5b93",
   "metadata": {
    "scrolled": true
   },
   "outputs": [
    {
     "data": {
      "text/html": [
       "<table class=\"dataframe\">\n",
       "<caption>A grouped_df: 5 × 3</caption>\n",
       "<thead>\n",
       "\t<tr><th scope=col>member_casual</th><th scope=col>rideable_type</th><th scope=col>n</th></tr>\n",
       "\t<tr><th scope=col>&lt;chr&gt;</th><th scope=col>&lt;chr&gt;</th><th scope=col>&lt;int&gt;</th></tr>\n",
       "</thead>\n",
       "<tbody>\n",
       "\t<tr><td>casual</td><td>classic_bike </td><td> 776921</td></tr>\n",
       "\t<tr><td>casual</td><td>docked_bike  </td><td> 124848</td></tr>\n",
       "\t<tr><td>casual</td><td>electric_bike</td><td> 679247</td></tr>\n",
       "\t<tr><td>member</td><td>classic_bike </td><td>1665796</td></tr>\n",
       "\t<tr><td>member</td><td>electric_bike</td><td>1003235</td></tr>\n",
       "</tbody>\n",
       "</table>\n"
      ],
      "text/latex": [
       "A grouped\\_df: 5 × 3\n",
       "\\begin{tabular}{lll}\n",
       " member\\_casual & rideable\\_type & n\\\\\n",
       " <chr> & <chr> & <int>\\\\\n",
       "\\hline\n",
       "\t casual & classic\\_bike  &  776921\\\\\n",
       "\t casual & docked\\_bike   &  124848\\\\\n",
       "\t casual & electric\\_bike &  679247\\\\\n",
       "\t member & classic\\_bike  & 1665796\\\\\n",
       "\t member & electric\\_bike & 1003235\\\\\n",
       "\\end{tabular}\n"
      ],
      "text/markdown": [
       "\n",
       "A grouped_df: 5 × 3\n",
       "\n",
       "| member_casual &lt;chr&gt; | rideable_type &lt;chr&gt; | n &lt;int&gt; |\n",
       "|---|---|---|\n",
       "| casual | classic_bike  |  776921 |\n",
       "| casual | docked_bike   |  124848 |\n",
       "| casual | electric_bike |  679247 |\n",
       "| member | classic_bike  | 1665796 |\n",
       "| member | electric_bike | 1003235 |\n",
       "\n"
      ],
      "text/plain": [
       "  member_casual rideable_type n      \n",
       "1 casual        classic_bike   776921\n",
       "2 casual        docked_bike    124848\n",
       "3 casual        electric_bike  679247\n",
       "4 member        classic_bike  1665796\n",
       "5 member        electric_bike 1003235"
      ]
     },
     "metadata": {},
     "output_type": "display_data"
    }
   ],
   "source": [
    "# Which rideable types are used by which types of users?\n",
    "Cyclist_merged %>%\n",
    "  group_by(member_casual, rideable_type) %>%\n",
    "  tally()"
   ]
  },
  {
   "cell_type": "markdown",
   "id": "fb280532",
   "metadata": {},
   "source": [
    "- The results revealed that members do not utilize docked bikes."
   ]
  },
  {
   "cell_type": "code",
   "execution_count": 48,
   "id": "3c3f7faf",
   "metadata": {
    "scrolled": true
   },
   "outputs": [
    {
     "name": "stderr",
     "output_type": "stream",
     "text": [
      "\u001b[1m\u001b[22m`summarise()` has grouped output by 'day_of_week'. You can override using the\n",
      "`.groups` argument.\n"
     ]
    },
    {
     "name": "stdout",
     "output_type": "stream",
     "text": [
      "\u001b[90m# A tibble: 14 × 3\u001b[39m\n",
      "\u001b[90m# Groups:   day_of_week [7]\u001b[39m\n",
      "   day_of_week member_casual average_ride_length\n",
      "   \u001b[3m\u001b[90m<ord>\u001b[39m\u001b[23m       \u001b[3m\u001b[90m<chr>\u001b[39m\u001b[23m                       \u001b[3m\u001b[90m<dbl>\u001b[39m\u001b[23m\n",
      "\u001b[90m 1\u001b[39m Sun         casual                       26.1\n",
      "\u001b[90m 2\u001b[39m Sun         member                       13.7\n",
      "\u001b[90m 3\u001b[39m Mon         casual                       22.6\n",
      "\u001b[90m 4\u001b[39m Mon         member                       11.8\n",
      "\u001b[90m 5\u001b[39m Tue         casual                       20.7\n",
      "\u001b[90m 6\u001b[39m Tue         member                       11.8\n",
      "\u001b[90m 7\u001b[39m Wed         casual                       19.5\n",
      "\u001b[90m 8\u001b[39m Wed         member                       11.8\n",
      "\u001b[90m 9\u001b[39m Thu         casual                       20.1\n",
      "\u001b[90m10\u001b[39m Thu         member                       11.9\n",
      "\u001b[90m11\u001b[39m Fri         casual                       22.2\n",
      "\u001b[90m12\u001b[39m Fri         member                       12.2\n",
      "\u001b[90m13\u001b[39m Sat         casual                       25.8\n",
      "\u001b[90m14\u001b[39m Sat         member                       13.9\n"
     ]
    }
   ],
   "source": [
    "# Average ride_length for users by day_of_week\n",
    "\n",
    "average_ride_length_by_day <- Cyclist_merged %>%\n",
    "  group_by(day_of_week, member_casual) %>%\n",
    "  summarise(average_ride_length = mean(ride_length)/60)\n",
    "\n",
    "# Print the result\n",
    "print(average_ride_length_by_day)\n"
   ]
  },
  {
   "cell_type": "markdown",
   "id": "ed2f2c03",
   "metadata": {},
   "source": [
    "- *explain*"
   ]
  },
  {
   "cell_type": "markdown",
   "id": "8ee1ac8a",
   "metadata": {},
   "source": [
    "## Share: Visualization"
   ]
  },
  {
   "cell_type": "code",
   "execution_count": 27,
   "id": "1f251913",
   "metadata": {
    "scrolled": true
   },
   "outputs": [],
   "source": [
    "# Loading the corresponding package\n",
    "library(ggplot2)"
   ]
  },
  {
   "cell_type": "markdown",
   "id": "f0030cff",
   "metadata": {},
   "source": [
    "### 1. Number of customers by member type"
   ]
  },
  {
   "cell_type": "code",
   "execution_count": 28,
   "id": "a2a4c2b4",
   "metadata": {},
   "outputs": [
    {
     "data": {
      "image/png": "[encoded data removed]",
      "text/plain": [
       "plot without title"
      ]
     },
     "metadata": {
      "image/png": {
       "height": 420,
       "width": 420
      }
     },
     "output_type": "display_data"
    }
   ],
   "source": [
    "\n",
    "# number of customers by member type from August 2022- July 2023\n",
    "\n",
    "num_type_user <- ggplot(data=Cyclist_merged, aes(x= member_casual, fill=member_casual))+ geom_bar( )+\n",
    "  labs(title = \"User types from August 2022 - July 2023\",x=\"User type\",y=NULL , fill = NULL) +\n",
    "  theme_minimal() +\n",
    "  theme(legend.position=NULL)+\n",
    "  geom_text(stat = \"count\", aes(label = after_stat(count)), vjust = -0.5)\n",
    "\n",
    "num_type_user + theme(plot.title = element_text(hjust = 0.5))+\n",
    "scale_y_continuous(labels = scales::comma) "
   ]
  },
  {
   "cell_type": "markdown",
   "id": "42a825d1",
   "metadata": {},
   "source": [
    "- We can observe that the dataset contains a larger number of users that have a membership (1,581,016) compared to casual users (2,669,031)"
   ]
  },
  {
   "cell_type": "markdown",
   "id": "cdcceb43",
   "metadata": {},
   "source": [
    "### 2. User types by readable type"
   ]
  },
  {
   "cell_type": "code",
   "execution_count": 44,
   "id": "f766d29e",
   "metadata": {},
   "outputs": [
    {
     "data": {
      "image/png": "[encoded data removed]",
      "text/plain": [
       "plot without title"
      ]
     },
     "metadata": {
      "image/png": {
       "height": 420,
       "width": 420
      }
     },
     "output_type": "display_data"
    }
   ],
   "source": [
    "number_rideable_type <- ggplot(data=Cyclist_merged, aes(x= member_casual, fill=rideable_type))+ geom_bar()+\n",
    "  labs(title = \"User types by readable type from August 2022 - July 2023\", x=\"User type\",y=NULL , fill = \"Rideable Type\") +\n",
    "  theme_minimal() +\n",
    "  scale_fill_manual(values = c(\"classic_bike\" = \"#0000FF\",\"electric_bike\" = \"#00FF00\"))+\n",
    "  theme(legend.position=\"right\")+\n",
    "  scale_y_continuous(labels = scales::comma)\n",
    "\n",
    "number_rideable_type"
   ]
  },
  {
   "cell_type": "markdown",
   "id": "eddc01d2",
   "metadata": {},
   "source": [
    "- Observing the data, we can see that for casual users, both classic bikes and electric bikes exhibit similar preferences. However, among user members, classic bikes are favored more than electric bikes"
   ]
  },
  {
   "cell_type": "markdown",
   "id": "6cd00bc2",
   "metadata": {},
   "source": [
    "### 3. Rents per weekdays according to the User Types \n"
   ]
  },
  {
   "cell_type": "code",
   "execution_count": 31,
   "id": "53ea532d",
   "metadata": {},
   "outputs": [
    {
     "data": {
      "image/png": "[encoded data removed]",
      "text/plain": [
       "plot without title"
      ]
     },
     "metadata": {
      "image/png": {
       "height": 420,
       "width": 420
      }
     },
     "output_type": "display_data"
    }
   ],
   "source": [
    "ggplot(Cyclist_merged)+\n",
    "  geom_bar(mapping=aes(x=member_casual, fill= member_casual))+\n",
    "  facet_wrap(~day_of_week)+\n",
    "  theme(axis.text.x = element_text(angle=45))+\n",
    "  labs(title = \"Weekdays by User Types\", x=NULL,y=NULL , fill = \"User Type\")\n"
   ]
  },
  {
   "cell_type": "markdown",
   "id": "351f4f03",
   "metadata": {},
   "source": [
    "- *the user with membership rent more bycicles than causal user. However, the difference between this type of users is minimal at saturday and also less at sunday* --> correct grammar"
   ]
  },
  {
   "cell_type": "markdown",
   "id": "061a87f4",
   "metadata": {},
   "source": [
    "### 4. User Types by Weekdays\n"
   ]
  },
  {
   "cell_type": "code",
   "execution_count": 33,
   "id": "d2c939a7",
   "metadata": {},
   "outputs": [
    {
     "data": {
      "image/png": "[encoded data removed]",
      "text/plain": [
       "plot without title"
      ]
     },
     "metadata": {
      "image/png": {
       "height": 420,
       "width": 420
      }
     },
     "output_type": "display_data"
    }
   ],
   "source": [
    "ggplot(Cyclist_merged)+\n",
    "  geom_bar(mapping=aes(x=day_of_week, fill= day_of_week))+\n",
    "  facet_wrap(~member_casual)+\n",
    "  theme(axis.text.x = element_text(angle=45))+\n",
    "  scale_y_continuous(labels = scales::comma)+\n",
    "  labs(title = \" User Types by Weekdays \", x=\"Day of Week \",y=NULL , fill = \"day of week\")"
   ]
  },
  {
   "cell_type": "markdown",
   "id": "4cc32ef7",
   "metadata": {},
   "source": [
    "- *explain it*"
   ]
  },
  {
   "cell_type": "markdown",
   "id": "c4917bfe",
   "metadata": {},
   "source": [
    "### 5. the mean of the ride length (in minuten) for casual riders and members\n"
   ]
  },
  {
   "cell_type": "code",
   "execution_count": 35,
   "id": "d7d025f1",
   "metadata": {},
   "outputs": [
    {
     "data": {
      "image/png": "[encoded data removed]",
      "text/plain": [
       "plot without title"
      ]
     },
     "metadata": {
      "image/png": {
       "height": 420,
       "width": 420
      }
     },
     "output_type": "display_data"
    }
   ],
   "source": [
    "Cyclist_merged %>%\n",
    "  group_by(member_casual) %>%\n",
    "  summarise(mean_ride_length_minuten = mean(ride_length)) %>% \n",
    "  ggplot()+ geom_col(mapping= aes(x= member_casual, y= mean_ride_length_minuten, fill= member_casual))+\n",
    "  labs(title = \" Mean ride length (in Minutes) by User Types \", x=\"User Type \",y=\"Mean ride lenght (in min.)\" , fill = \"User Type\")\n",
    "  "
   ]
  },
  {
   "cell_type": "markdown",
   "id": "13983ebc",
   "metadata": {},
   "source": [
    "- *explain*"
   ]
  },
  {
   "cell_type": "markdown",
   "id": "1e51f6a3",
   "metadata": {},
   "source": [
    "### 6. the bike type usage by user type"
   ]
  },
  {
   "cell_type": "code",
   "execution_count": 41,
   "id": "f95b059a",
   "metadata": {},
   "outputs": [
    {
     "data": {
      "image/png": "[encoded data removed]",
      "text/plain": [
       "plot without title"
      ]
     },
     "metadata": {
      "image/png": {
       "height": 420,
       "width": 420
      }
     },
     "output_type": "display_data"
    }
   ],
   "source": [
    "## excluding docked bikes because only the casual users, rented this kind of bike\n",
    "\n",
    "bike_type <- Cyclist_merged %>% filter(rideable_type==\"classic_bike\" | rideable_type==\"electric_bike\")\n",
    "\n",
    "\n",
    "#Then lets check the bike type usage by user type:\n",
    "bike_type %>%\n",
    "  group_by(rideable_type, member_casual) %>%\n",
    "  summarise(totals=n(), .groups=\"drop\")  %>%\n",
    "  ggplot()+\n",
    "  geom_col(aes(x=rideable_type,y=totals,fill=member_casual), position = \"dodge\") + \n",
    "  labs(title = \"User type by Bike Type usage\",x=\"Bike type\",y=NULL, fill=\"User type\")  +\n",
    "  theme_minimal() +\n",
    "  theme(legend.position=\"top\")\n",
    "\n"
   ]
  },
  {
   "cell_type": "markdown",
   "id": "58eb650a",
   "metadata": {},
   "source": [
    "- *explain*"
   ]
  },
  {
   "cell_type": "code",
   "execution_count": 43,
   "id": "c3b95971",
   "metadata": {},
   "outputs": [
    {
     "data": {
      "image/png": "[encoded data removed]",
      "text/plain": [
       "plot without title"
      ]
     },
     "metadata": {
      "image/png": {
       "height": 420,
       "width": 420
      }
     },
     "output_type": "display_data"
    }
   ],
   "source": [
    "bike_type%>%\n",
    "  group_by(member_casual,rideable_type,day_of_week) %>%\n",
    "  summarise(totals=n(), .groups=\"drop\") %>%\n",
    "  ggplot() +\n",
    "  geom_col(aes(x=day_of_week,y=totals, fill=rideable_type), position = \"dodge\") + \n",
    "  facet_wrap(~member_casual) +\n",
    "  labs(title = \"Bike type usage by user type during a week\",x=\"User type\",y=NULL, fill=\"Bike Type\") +\n",
    "  theme_minimal()  +\n",
    "  scale_fill_manual(values = c(\"classic_bike\" = \"#0000FF\",\"electric_bike\" = \"#00FF00\")) +\n",
    "  theme(legend.position=\"top\")"
   ]
  },
  {
   "cell_type": "markdown",
   "id": "c9313f51",
   "metadata": {},
   "source": [
    "-*explain it*"
   ]
  },
  {
   "cell_type": "markdown",
   "id": "826cd242",
   "metadata": {},
   "source": [
    "## Act: Top three recommendations based on the analysis\n"
   ]
  },
  {
   "cell_type": "markdown",
   "id": "54a3d63e",
   "metadata": {},
   "source": [
    "- first"
   ]
  },
  {
   "cell_type": "markdown",
   "id": "75cc8fdc",
   "metadata": {},
   "source": [
    "- second"
   ]
  },
  {
   "cell_type": "markdown",
   "id": "20d3e133",
   "metadata": {},
   "source": [
    "- third"
   ]
  },
  {
   "cell_type": "markdown",
   "id": "64d3a567",
   "metadata": {},
   "source": []
  }
 ],
 "metadata": {
  "kernelspec": {
   "display_name": "R",
   "language": "R",
   "name": "ir"
  },
  "language_info": {
   "codemirror_mode": "r",
   "file_extension": ".r",
   "mimetype": "text/x-r-source",
   "name": "R",
   "pygments_lexer": "r",
   "version": "4.2.0"
  }
 },
 "nbformat": 4,
 "nbformat_minor": 5
}
