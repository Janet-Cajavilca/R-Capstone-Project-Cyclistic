{
 "cells": [
  {
   "cell_type": "markdown",
   "id": "795aead2",
   "metadata": {},
   "source": [
    "# R Capstone Project Cyclist\n",
    "\n",
    " **Task Question: How do annual members and casual riders use Cyclistic bikes differently?**\n",
    " \n",
    "For the analysis of the data I decided to use R data because the data is too large for using Google Spreadsheets or Microsoft Excel"
   ]
  },
  {
   "cell_type": "markdown",
   "id": "b7d0cabd",
   "metadata": {},
   "source": [
    "## Prepare"
   ]
  },
  {
   "cell_type": "code",
   "execution_count": null,
   "id": "19522d79",
   "metadata": {
    "scrolled": true
   },
   "outputs": [],
   "source": [
    "# loading the necessary packages \n",
    "library(tidyverse)\n",
    "library(readr)"
   ]
  },
  {
   "cell_type": "code",
   "execution_count": null,
   "id": "8239efff",
   "metadata": {
    "scrolled": true
   },
   "outputs": [],
   "source": [
    "# read the CSV files and create data frames\n",
    "August_2022 <- read_csv(\"data/202208-divvy-tripdata.csv\")\n",
    "September_2022 <- read_csv(\"data/202209-divvy-tripdata.csv\")\n",
    "October_2022 <- read_csv(\"data/202210-divvy-tripdata.csv\")\n",
    "November_2022 <- read_csv(\"data/202211-divvy-tripdata.csv\")\n",
    "December_2022 <- read_csv(\"data/202212-divvy-tripdata.csv\")\n",
    "January_2023 <- read_csv(\"data/202301-divvy-tripdata.csv\")\n",
    "February_2023 <- read_csv(\"data/202302-divvy-tripdata.csv\")\n",
    "March_2023 <- read_csv(\"data/202303-divvy-tripdata.csv\")\n",
    "April_2023 <- read_csv(\"data/202304-divvy-tripdata.csv\")\n",
    "May_2023 <- read_csv(\"data/202305-divvy-tripdata.csv\")\n",
    "June_2023 <- read_csv(\"data/202306-divvy-tripdata.csv\")\n",
    "July_2023 <- read_csv(\"data/202307-divvy-tripdata.csv\")"
   ]
  },
  {
   "cell_type": "code",
   "execution_count": 5,
   "id": "d98d1124",
   "metadata": {
    "scrolled": true
   },
   "outputs": [
    {
     "name": "stdout",
     "output_type": "stream",
     "text": [
      "Number of datasets: 12 \n"
     ]
    }
   ],
   "source": [
    "# control if all 12 data sets are saved for the analysis\n",
    "objects <- ls()# Count the number of data sets\n",
    "dataset_count <- sum(sapply(objects, function(obj) is.data.frame(get(obj))))\n",
    "                            \n",
    "# Print the count\n",
    "cat(\"Number of datasets:\", dataset_count, \"\\n\")"
   ]
  },
  {
   "cell_type": "markdown",
   "id": "55b24a32",
   "metadata": {},
   "source": [
    "## Process"
   ]
  },
  {
   "cell_type": "code",
   "execution_count": 8,
   "id": "720fdd3a",
   "metadata": {
    "collapsed": true,
    "scrolled": true
   },
   "outputs": [
    {
     "data": {
      "text/html": [
       "TRUE"
      ],
      "text/latex": [
       "TRUE"
      ],
      "text/markdown": [
       "TRUE"
      ],
      "text/plain": [
       "[1] TRUE"
      ]
     },
     "metadata": {},
     "output_type": "display_data"
    }
   ],
   "source": [
    "# 1.  before merging data - I compared if the data frames have the same column names and that the classes of these match\n",
    "# Loading the necessary packages \n",
    "library(skimr)\n",
    "library(janitor)\n",
    "compare_df_cols_same(August_2022, September_2022,October_2022, November_2022, December_2022, January_2023,February_2023, March_2023, April_2023, May_2023, June_2023, July_2023 )\n",
    "## True means here that the column are named equal and the type of variable are equal between columns"
   ]
  },
  {
   "cell_type": "code",
   "execution_count": 19,
   "id": "494d4f74",
   "metadata": {
    "scrolled": true
   },
   "outputs": [],
   "source": [
    "# 2. merging/joining the rows of the 12 data frames \n",
    "\n",
    "Cyclist_merged<- bind_rows(August_2022, September_2022, October_2022, November_2022, December_2022, January_2023,February_2023, March_2023, April_2023, May_2023, June_2023, July_2023)"
   ]
  },
  {
   "cell_type": "code",
   "execution_count": 20,
   "id": "cbbad8ea",
   "metadata": {
    "scrolled": true
   },
   "outputs": [
    {
     "name": "stdout",
     "output_type": "stream",
     "text": [
      "\u001b[90m# A tibble: 0 × 13\u001b[39m\n",
      "\u001b[90m# ℹ 13 variables: ride_id <chr>, rideable_type <chr>, started_at <dttm>,\u001b[39m\n",
      "\u001b[90m#   ended_at <dttm>, start_station_name <chr>, start_station_id <chr>,\u001b[39m\n",
      "\u001b[90m#   end_station_name <chr>, end_station_id <chr>, start_lat <dbl>,\u001b[39m\n",
      "\u001b[90m#   start_lng <dbl>, end_lat <dbl>, end_lng <dbl>, member_casual <chr>\u001b[39m\n"
     ]
    }
   ],
   "source": [
    "# 3. checking for duplicate data- in this case in the column \"ride_id\"\n",
    "\n",
    "# I Checked for duplicates in the \"ride_id\" column\n",
    "duplicates <- Cyclist_merged[duplicated(Cyclist_merged$ride_id), ]\n",
    "# View the rows with duplicate ride_id values\n",
    "print(duplicates)\n",
    "## results showed that there is not duplicated ride ids, because the tible table has Cero rows"
   ]
  },
  {
   "cell_type": "code",
   "execution_count": 21,
   "id": "390e309e",
   "metadata": {
    "scrolled": true
   },
   "outputs": [
    {
     "data": {
      "text/html": [
       "<table class=\"dataframe\">\n",
       "<caption>A data.frame: 13 × 2</caption>\n",
       "<thead>\n",
       "\t<tr><th></th><th scope=col>Column</th><th scope=col>Missing_Count</th></tr>\n",
       "\t<tr><th></th><th scope=col>&lt;chr&gt;</th><th scope=col>&lt;dbl&gt;</th></tr>\n",
       "</thead>\n",
       "<tbody>\n",
       "\t<tr><th scope=row>ride_id</th><td>ride_id           </td><td>     0</td></tr>\n",
       "\t<tr><th scope=row>rideable_type</th><td>rideable_type     </td><td>     0</td></tr>\n",
       "\t<tr><th scope=row>started_at</th><td>started_at        </td><td>     0</td></tr>\n",
       "\t<tr><th scope=row>ended_at</th><td>ended_at          </td><td>     0</td></tr>\n",
       "\t<tr><th scope=row>start_station_name</th><td>start_station_name</td><td>868772</td></tr>\n",
       "\t<tr><th scope=row>start_station_id</th><td>start_station_id  </td><td>868904</td></tr>\n",
       "\t<tr><th scope=row>end_station_name</th><td>end_station_name  </td><td>925008</td></tr>\n",
       "\t<tr><th scope=row>end_station_id</th><td>end_station_id    </td><td>925149</td></tr>\n",
       "\t<tr><th scope=row>start_lat</th><td>start_lat         </td><td>     0</td></tr>\n",
       "\t<tr><th scope=row>start_lng</th><td>start_lng         </td><td>     0</td></tr>\n",
       "\t<tr><th scope=row>end_lat</th><td>end_lat           </td><td>  6102</td></tr>\n",
       "\t<tr><th scope=row>end_lng</th><td>end_lng           </td><td>  6102</td></tr>\n",
       "\t<tr><th scope=row>member_casual</th><td>member_casual     </td><td>     0</td></tr>\n",
       "</tbody>\n",
       "</table>\n"
      ],
      "text/latex": [
       "A data.frame: 13 × 2\n",
       "\\begin{tabular}{r|ll}\n",
       "  & Column & Missing\\_Count\\\\\n",
       "  & <chr> & <dbl>\\\\\n",
       "\\hline\n",
       "\tride\\_id & ride\\_id            &      0\\\\\n",
       "\trideable\\_type & rideable\\_type      &      0\\\\\n",
       "\tstarted\\_at & started\\_at         &      0\\\\\n",
       "\tended\\_at & ended\\_at           &      0\\\\\n",
       "\tstart\\_station\\_name & start\\_station\\_name & 868772\\\\\n",
       "\tstart\\_station\\_id & start\\_station\\_id   & 868904\\\\\n",
       "\tend\\_station\\_name & end\\_station\\_name   & 925008\\\\\n",
       "\tend\\_station\\_id & end\\_station\\_id     & 925149\\\\\n",
       "\tstart\\_lat & start\\_lat          &      0\\\\\n",
       "\tstart\\_lng & start\\_lng          &      0\\\\\n",
       "\tend\\_lat & end\\_lat            &   6102\\\\\n",
       "\tend\\_lng & end\\_lng            &   6102\\\\\n",
       "\tmember\\_casual & member\\_casual      &      0\\\\\n",
       "\\end{tabular}\n"
      ],
      "text/markdown": [
       "\n",
       "A data.frame: 13 × 2\n",
       "\n",
       "| <!--/--> | Column &lt;chr&gt; | Missing_Count &lt;dbl&gt; |\n",
       "|---|---|---|\n",
       "| ride_id | ride_id            |      0 |\n",
       "| rideable_type | rideable_type      |      0 |\n",
       "| started_at | started_at         |      0 |\n",
       "| ended_at | ended_at           |      0 |\n",
       "| start_station_name | start_station_name | 868772 |\n",
       "| start_station_id | start_station_id   | 868904 |\n",
       "| end_station_name | end_station_name   | 925008 |\n",
       "| end_station_id | end_station_id     | 925149 |\n",
       "| start_lat | start_lat          |      0 |\n",
       "| start_lng | start_lng          |      0 |\n",
       "| end_lat | end_lat            |   6102 |\n",
       "| end_lng | end_lng            |   6102 |\n",
       "| member_casual | member_casual      |      0 |\n",
       "\n"
      ],
      "text/plain": [
       "                   Column             Missing_Count\n",
       "ride_id            ride_id                 0       \n",
       "rideable_type      rideable_type           0       \n",
       "started_at         started_at              0       \n",
       "ended_at           ended_at                0       \n",
       "start_station_name start_station_name 868772       \n",
       "start_station_id   start_station_id   868904       \n",
       "end_station_name   end_station_name   925008       \n",
       "end_station_id     end_station_id     925149       \n",
       "start_lat          start_lat               0       \n",
       "start_lng          start_lng               0       \n",
       "end_lat            end_lat              6102       \n",
       "end_lng            end_lng              6102       \n",
       "member_casual      member_casual           0       "
      ]
     },
     "metadata": {},
     "output_type": "display_data"
    }
   ],
   "source": [
    "# 4. checking for missing values\n",
    "\n",
    "missing_counts <- colSums(is.na(Cyclist_merged))##to see missing values per column\n",
    "missing_counts_df <- data.frame(Column = names(missing_counts), Missing_Count = missing_counts)## to see it in a table\n",
    "missing_counts_df"
   ]
  },
  {
   "cell_type": "code",
   "execution_count": 22,
   "id": "e1236fab",
   "metadata": {
    "scrolled": true
   },
   "outputs": [],
   "source": [
    "# 5. removing missing values.\n",
    "# I decided to remove the rows with missing values\n",
    "Cyclist_merged <- na.omit(Cyclist_merged)"
   ]
  },
  {
   "cell_type": "code",
   "execution_count": 14,
   "id": "a4955783",
   "metadata": {
    "scrolled": true
   },
   "outputs": [
    {
     "name": "stdout",
     "output_type": "stream",
     "text": [
      "── Data Summary ────────────────────────\n",
      "                           Values        \n",
      "Name                       Cyclist_merged\n",
      "Number of rows             4340367       \n",
      "Number of columns          13            \n",
      "_______________________                  \n",
      "Column type frequency:                   \n",
      "  character                7             \n",
      "  numeric                  4             \n",
      "  POSIXct                  2             \n",
      "________________________                 \n",
      "Group variables            None          \n",
      "\n",
      "── Variable type: character ────────────────────────────────────────────────────\n",
      "  skim_variable      n_missing complete_rate min max empty n_unique whitespace\n",
      "\u001b[90m1\u001b[39m ride_id                    0             1  16  16     0  4\u001b[4m3\u001b[24m\u001b[4m4\u001b[24m\u001b[4m0\u001b[24m367          0\n",
      "\u001b[90m2\u001b[39m rideable_type              0             1  11  13     0        3          0\n",
      "\u001b[90m3\u001b[39m start_station_name         0             1   3  64     0     \u001b[4m1\u001b[24m678          0\n",
      "\u001b[90m4\u001b[39m start_station_id           0             1   3  35     0     \u001b[4m1\u001b[24m448          0\n",
      "\u001b[90m5\u001b[39m end_station_name           0             1   3  64     0     \u001b[4m1\u001b[24m702          0\n",
      "\u001b[90m6\u001b[39m end_station_id             0             1   3  36     0     \u001b[4m1\u001b[24m459          0\n",
      "\u001b[90m7\u001b[39m member_casual              0             1   6   6     0        2          0\n",
      "\n",
      "── Variable type: numeric ──────────────────────────────────────────────────────\n",
      "  skim_variable n_missing complete_rate  mean     sd    p0   p25   p50   p75\n",
      "\u001b[90m1\u001b[39m start_lat             0             1  41.9 0.042\u001b[4m8\u001b[24m  41.6  41.9  41.9  41.9\n",
      "\u001b[90m2\u001b[39m start_lng             0             1 -\u001b[31m87\u001b[39m\u001b[31m.\u001b[39m\u001b[31m6\u001b[39m 0.025\u001b[4m0\u001b[24m -\u001b[31m87\u001b[39m\u001b[31m.\u001b[39m\u001b[31m8\u001b[39m -\u001b[31m87\u001b[39m\u001b[31m.\u001b[39m\u001b[31m7\u001b[39m -\u001b[31m87\u001b[39m\u001b[31m.\u001b[39m\u001b[31m6\u001b[39m -\u001b[31m87\u001b[39m\u001b[31m.\u001b[39m\u001b[31m6\u001b[39m\n",
      "\u001b[90m3\u001b[39m end_lat               0             1  41.9 0.076\u001b[4m8\u001b[24m   0    41.9  41.9  41.9\n",
      "\u001b[90m4\u001b[39m end_lng               0             1 -\u001b[31m87\u001b[39m\u001b[31m.\u001b[39m\u001b[31m6\u001b[39m 0.135  -\u001b[31m87\u001b[39m\u001b[31m.\u001b[39m\u001b[31m8\u001b[39m -\u001b[31m87\u001b[39m\u001b[31m.\u001b[39m\u001b[31m7\u001b[39m -\u001b[31m87\u001b[39m\u001b[31m.\u001b[39m\u001b[31m6\u001b[39m -\u001b[31m87\u001b[39m\u001b[31m.\u001b[39m\u001b[31m6\u001b[39m\n",
      "   p100\n",
      "\u001b[90m1\u001b[39m  42.1\n",
      "\u001b[90m2\u001b[39m -\u001b[31m87\u001b[39m\u001b[31m.\u001b[39m\u001b[31m5\u001b[39m\n",
      "\u001b[90m3\u001b[39m  42.1\n",
      "\u001b[90m4\u001b[39m   0  \n",
      "\n",
      "── Variable type: POSIXct ──────────────────────────────────────────────────────\n",
      "  skim_variable n_missing complete_rate min                 max                \n",
      "\u001b[90m1\u001b[39m started_at            0             1 2022-08-01 \u001b[90m00:00:07\u001b[39m 2023-07-31 \u001b[90m23:59:15\u001b[39m\n",
      "\u001b[90m2\u001b[39m ended_at              0             1 2022-08-01 \u001b[90m00:05:44\u001b[39m 2023-08-01 \u001b[90m20:40:50\u001b[39m\n",
      "  median              n_unique\n",
      "\u001b[90m1\u001b[39m 2023-02-15 \u001b[90m06:53:05\u001b[39m  3\u001b[4m7\u001b[24m\u001b[4m9\u001b[24m\u001b[4m2\u001b[24m206\n",
      "\u001b[90m2\u001b[39m 2023-02-15 \u001b[90m07:01:25\u001b[39m  3\u001b[4m8\u001b[24m\u001b[4m0\u001b[24m\u001b[4m3\u001b[24m651\n"
     ]
    },
    {
     "name": "stderr",
     "output_type": "stream",
     "text": [
      "Warning message in is.null(text_repr) || nchar(text_repr) == 0L:\n",
      "\"'length(x) = 20 > 1' in coercion to 'logical(1)'\"\n"
     ]
    },
    {
     "data": {
      "text/html": [
       "<table class=\"dataframe\">\n",
       "<caption>A skim_df: 13 × 20</caption>\n",
       "<thead>\n",
       "\t<tr><th></th><th scope=col>skim_type</th><th scope=col>skim_variable</th><th scope=col>n_missing</th><th scope=col>complete_rate</th><th scope=col>POSIXct.min</th><th scope=col>POSIXct.max</th><th scope=col>POSIXct.median</th><th scope=col>POSIXct.n_unique</th><th scope=col>character.min</th><th scope=col>character.max</th><th scope=col>character.empty</th><th scope=col>character.n_unique</th><th scope=col>character.whitespace</th><th scope=col>numeric.mean</th><th scope=col>numeric.sd</th><th scope=col>numeric.p0</th><th scope=col>numeric.p25</th><th scope=col>numeric.p50</th><th scope=col>numeric.p75</th><th scope=col>numeric.p100</th></tr>\n",
       "\t<tr><th></th><th scope=col>&lt;chr&gt;</th><th scope=col>&lt;chr&gt;</th><th scope=col>&lt;int&gt;</th><th scope=col>&lt;dbl&gt;</th><th scope=col>&lt;dttm&gt;</th><th scope=col>&lt;dttm&gt;</th><th scope=col>&lt;dttm&gt;</th><th scope=col>&lt;int&gt;</th><th scope=col>&lt;int&gt;</th><th scope=col>&lt;int&gt;</th><th scope=col>&lt;int&gt;</th><th scope=col>&lt;int&gt;</th><th scope=col>&lt;int&gt;</th><th scope=col>&lt;dbl&gt;</th><th scope=col>&lt;dbl&gt;</th><th scope=col>&lt;dbl&gt;</th><th scope=col>&lt;dbl&gt;</th><th scope=col>&lt;dbl&gt;</th><th scope=col>&lt;dbl&gt;</th><th scope=col>&lt;dbl&gt;</th></tr>\n",
       "</thead>\n",
       "<tbody>\n",
       "\t<tr><th scope=row>1</th><td>POSIXct  </td><td>started_at        </td><td>0</td><td>1</td><td>2022-08-01 00:00:07</td><td>2023-07-31 23:59:15</td><td>2023-02-15 06:53:05</td><td>3792206</td><td>NA</td><td>NA</td><td>NA</td><td>     NA</td><td>NA</td><td>       NA</td><td>        NA</td><td>       NA</td><td>       NA</td><td>       NA</td><td>       NA</td><td>       NA</td></tr>\n",
       "\t<tr><th scope=row>2</th><td>POSIXct  </td><td>ended_at          </td><td>0</td><td>1</td><td>2022-08-01 00:05:44</td><td>2023-08-01 20:40:50</td><td>2023-02-15 07:01:25</td><td>3803651</td><td>NA</td><td>NA</td><td>NA</td><td>     NA</td><td>NA</td><td>       NA</td><td>        NA</td><td>       NA</td><td>       NA</td><td>       NA</td><td>       NA</td><td>       NA</td></tr>\n",
       "\t<tr><th scope=row>3</th><td>character</td><td>ride_id           </td><td>0</td><td>1</td><td>NA</td><td>NA</td><td>NA</td><td>     NA</td><td>16</td><td>16</td><td> 0</td><td>4340367</td><td> 0</td><td>       NA</td><td>        NA</td><td>       NA</td><td>       NA</td><td>       NA</td><td>       NA</td><td>       NA</td></tr>\n",
       "\t<tr><th scope=row>4</th><td>character</td><td>rideable_type     </td><td>0</td><td>1</td><td>NA</td><td>NA</td><td>NA</td><td>     NA</td><td>11</td><td>13</td><td> 0</td><td>      3</td><td> 0</td><td>       NA</td><td>        NA</td><td>       NA</td><td>       NA</td><td>       NA</td><td>       NA</td><td>       NA</td></tr>\n",
       "\t<tr><th scope=row>5</th><td>character</td><td>start_station_name</td><td>0</td><td>1</td><td>NA</td><td>NA</td><td>NA</td><td>     NA</td><td> 3</td><td>64</td><td> 0</td><td>   1678</td><td> 0</td><td>       NA</td><td>        NA</td><td>       NA</td><td>       NA</td><td>       NA</td><td>       NA</td><td>       NA</td></tr>\n",
       "\t<tr><th scope=row>6</th><td>character</td><td>start_station_id  </td><td>0</td><td>1</td><td>NA</td><td>NA</td><td>NA</td><td>     NA</td><td> 3</td><td>35</td><td> 0</td><td>   1448</td><td> 0</td><td>       NA</td><td>        NA</td><td>       NA</td><td>       NA</td><td>       NA</td><td>       NA</td><td>       NA</td></tr>\n",
       "\t<tr><th scope=row>7</th><td>character</td><td>end_station_name  </td><td>0</td><td>1</td><td>NA</td><td>NA</td><td>NA</td><td>     NA</td><td> 3</td><td>64</td><td> 0</td><td>   1702</td><td> 0</td><td>       NA</td><td>        NA</td><td>       NA</td><td>       NA</td><td>       NA</td><td>       NA</td><td>       NA</td></tr>\n",
       "\t<tr><th scope=row>8</th><td>character</td><td>end_station_id    </td><td>0</td><td>1</td><td>NA</td><td>NA</td><td>NA</td><td>     NA</td><td> 3</td><td>36</td><td> 0</td><td>   1459</td><td> 0</td><td>       NA</td><td>        NA</td><td>       NA</td><td>       NA</td><td>       NA</td><td>       NA</td><td>       NA</td></tr>\n",
       "\t<tr><th scope=row>9</th><td>character</td><td>member_casual     </td><td>0</td><td>1</td><td>NA</td><td>NA</td><td>NA</td><td>     NA</td><td> 6</td><td> 6</td><td> 0</td><td>      2</td><td> 0</td><td>       NA</td><td>        NA</td><td>       NA</td><td>       NA</td><td>       NA</td><td>       NA</td><td>       NA</td></tr>\n",
       "\t<tr><th scope=row>10</th><td>numeric  </td><td>start_lat         </td><td>0</td><td>1</td><td>NA</td><td>NA</td><td>NA</td><td>     NA</td><td>NA</td><td>NA</td><td>NA</td><td>     NA</td><td>NA</td><td> 41.90142</td><td>0.04279524</td><td> 41.64850</td><td> 41.88096</td><td> 41.89662</td><td> 41.92871</td><td> 42.06485</td></tr>\n",
       "\t<tr><th scope=row>11</th><td>numeric  </td><td>start_lng         </td><td>0</td><td>1</td><td>NA</td><td>NA</td><td>NA</td><td>     NA</td><td>NA</td><td>NA</td><td>NA</td><td>     NA</td><td>NA</td><td>-87.64495</td><td>0.02495401</td><td>-87.84402</td><td>-87.65814</td><td>-87.64182</td><td>-87.62872</td><td>-87.52823</td></tr>\n",
       "\t<tr><th scope=row>12</th><td>numeric  </td><td>end_lat           </td><td>0</td><td>1</td><td>NA</td><td>NA</td><td>NA</td><td>     NA</td><td>NA</td><td>NA</td><td>NA</td><td>     NA</td><td>NA</td><td> 41.90171</td><td>0.07675173</td><td>  0.00000</td><td> 41.88096</td><td> 41.89675</td><td> 41.92883</td><td> 42.06485</td></tr>\n",
       "\t<tr><th scope=row>13</th><td>numeric  </td><td>end_lng           </td><td>0</td><td>1</td><td>NA</td><td>NA</td><td>NA</td><td>     NA</td><td>NA</td><td>NA</td><td>NA</td><td>     NA</td><td>NA</td><td>-87.64502</td><td>0.13538473</td><td>-87.84406</td><td>-87.65862</td><td>-87.64288</td><td>-87.62915</td><td>  0.00000</td></tr>\n",
       "</tbody>\n",
       "</table>\n"
      ],
      "text/latex": [
       "A skim\\_df: 13 × 20\n",
       "\\begin{tabular}{r|llllllllllllllllllll}\n",
       "  & skim\\_type & skim\\_variable & n\\_missing & complete\\_rate & POSIXct.min & POSIXct.max & POSIXct.median & POSIXct.n\\_unique & character.min & character.max & character.empty & character.n\\_unique & character.whitespace & numeric.mean & numeric.sd & numeric.p0 & numeric.p25 & numeric.p50 & numeric.p75 & numeric.p100\\\\\n",
       "  & <chr> & <chr> & <int> & <dbl> & <dttm> & <dttm> & <dttm> & <int> & <int> & <int> & <int> & <int> & <int> & <dbl> & <dbl> & <dbl> & <dbl> & <dbl> & <dbl> & <dbl>\\\\\n",
       "\\hline\n",
       "\t1 & POSIXct   & started\\_at         & 0 & 1 & 2022-08-01 00:00:07 & 2023-07-31 23:59:15 & 2023-02-15 06:53:05 & 3792206 & NA & NA & NA &      NA & NA &        NA &         NA &        NA &        NA &        NA &        NA &        NA\\\\\n",
       "\t2 & POSIXct   & ended\\_at           & 0 & 1 & 2022-08-01 00:05:44 & 2023-08-01 20:40:50 & 2023-02-15 07:01:25 & 3803651 & NA & NA & NA &      NA & NA &        NA &         NA &        NA &        NA &        NA &        NA &        NA\\\\\n",
       "\t3 & character & ride\\_id            & 0 & 1 & NA & NA & NA &      NA & 16 & 16 &  0 & 4340367 &  0 &        NA &         NA &        NA &        NA &        NA &        NA &        NA\\\\\n",
       "\t4 & character & rideable\\_type      & 0 & 1 & NA & NA & NA &      NA & 11 & 13 &  0 &       3 &  0 &        NA &         NA &        NA &        NA &        NA &        NA &        NA\\\\\n",
       "\t5 & character & start\\_station\\_name & 0 & 1 & NA & NA & NA &      NA &  3 & 64 &  0 &    1678 &  0 &        NA &         NA &        NA &        NA &        NA &        NA &        NA\\\\\n",
       "\t6 & character & start\\_station\\_id   & 0 & 1 & NA & NA & NA &      NA &  3 & 35 &  0 &    1448 &  0 &        NA &         NA &        NA &        NA &        NA &        NA &        NA\\\\\n",
       "\t7 & character & end\\_station\\_name   & 0 & 1 & NA & NA & NA &      NA &  3 & 64 &  0 &    1702 &  0 &        NA &         NA &        NA &        NA &        NA &        NA &        NA\\\\\n",
       "\t8 & character & end\\_station\\_id     & 0 & 1 & NA & NA & NA &      NA &  3 & 36 &  0 &    1459 &  0 &        NA &         NA &        NA &        NA &        NA &        NA &        NA\\\\\n",
       "\t9 & character & member\\_casual      & 0 & 1 & NA & NA & NA &      NA &  6 &  6 &  0 &       2 &  0 &        NA &         NA &        NA &        NA &        NA &        NA &        NA\\\\\n",
       "\t10 & numeric   & start\\_lat          & 0 & 1 & NA & NA & NA &      NA & NA & NA & NA &      NA & NA &  41.90142 & 0.04279524 &  41.64850 &  41.88096 &  41.89662 &  41.92871 &  42.06485\\\\\n",
       "\t11 & numeric   & start\\_lng          & 0 & 1 & NA & NA & NA &      NA & NA & NA & NA &      NA & NA & -87.64495 & 0.02495401 & -87.84402 & -87.65814 & -87.64182 & -87.62872 & -87.52823\\\\\n",
       "\t12 & numeric   & end\\_lat            & 0 & 1 & NA & NA & NA &      NA & NA & NA & NA &      NA & NA &  41.90171 & 0.07675173 &   0.00000 &  41.88096 &  41.89675 &  41.92883 &  42.06485\\\\\n",
       "\t13 & numeric   & end\\_lng            & 0 & 1 & NA & NA & NA &      NA & NA & NA & NA &      NA & NA & -87.64502 & 0.13538473 & -87.84406 & -87.65862 & -87.64288 & -87.62915 &   0.00000\\\\\n",
       "\\end{tabular}\n"
      ],
      "text/markdown": [
       "\n",
       "A skim_df: 13 × 20\n",
       "\n",
       "| <!--/--> | skim_type &lt;chr&gt; | skim_variable &lt;chr&gt; | n_missing &lt;int&gt; | complete_rate &lt;dbl&gt; | POSIXct.min &lt;dttm&gt; | POSIXct.max &lt;dttm&gt; | POSIXct.median &lt;dttm&gt; | POSIXct.n_unique &lt;int&gt; | character.min &lt;int&gt; | character.max &lt;int&gt; | character.empty &lt;int&gt; | character.n_unique &lt;int&gt; | character.whitespace &lt;int&gt; | numeric.mean &lt;dbl&gt; | numeric.sd &lt;dbl&gt; | numeric.p0 &lt;dbl&gt; | numeric.p25 &lt;dbl&gt; | numeric.p50 &lt;dbl&gt; | numeric.p75 &lt;dbl&gt; | numeric.p100 &lt;dbl&gt; |\n",
       "|---|---|---|---|---|---|---|---|---|---|---|---|---|---|---|---|---|---|---|---|---|\n",
       "| 1 | POSIXct   | started_at         | 0 | 1 | 2022-08-01 00:00:07 | 2023-07-31 23:59:15 | 2023-02-15 06:53:05 | 3792206 | NA | NA | NA |      NA | NA |        NA |         NA |        NA |        NA |        NA |        NA |        NA |\n",
       "| 2 | POSIXct   | ended_at           | 0 | 1 | 2022-08-01 00:05:44 | 2023-08-01 20:40:50 | 2023-02-15 07:01:25 | 3803651 | NA | NA | NA |      NA | NA |        NA |         NA |        NA |        NA |        NA |        NA |        NA |\n",
       "| 3 | character | ride_id            | 0 | 1 | NA | NA | NA |      NA | 16 | 16 |  0 | 4340367 |  0 |        NA |         NA |        NA |        NA |        NA |        NA |        NA |\n",
       "| 4 | character | rideable_type      | 0 | 1 | NA | NA | NA |      NA | 11 | 13 |  0 |       3 |  0 |        NA |         NA |        NA |        NA |        NA |        NA |        NA |\n",
       "| 5 | character | start_station_name | 0 | 1 | NA | NA | NA |      NA |  3 | 64 |  0 |    1678 |  0 |        NA |         NA |        NA |        NA |        NA |        NA |        NA |\n",
       "| 6 | character | start_station_id   | 0 | 1 | NA | NA | NA |      NA |  3 | 35 |  0 |    1448 |  0 |        NA |         NA |        NA |        NA |        NA |        NA |        NA |\n",
       "| 7 | character | end_station_name   | 0 | 1 | NA | NA | NA |      NA |  3 | 64 |  0 |    1702 |  0 |        NA |         NA |        NA |        NA |        NA |        NA |        NA |\n",
       "| 8 | character | end_station_id     | 0 | 1 | NA | NA | NA |      NA |  3 | 36 |  0 |    1459 |  0 |        NA |         NA |        NA |        NA |        NA |        NA |        NA |\n",
       "| 9 | character | member_casual      | 0 | 1 | NA | NA | NA |      NA |  6 |  6 |  0 |       2 |  0 |        NA |         NA |        NA |        NA |        NA |        NA |        NA |\n",
       "| 10 | numeric   | start_lat          | 0 | 1 | NA | NA | NA |      NA | NA | NA | NA |      NA | NA |  41.90142 | 0.04279524 |  41.64850 |  41.88096 |  41.89662 |  41.92871 |  42.06485 |\n",
       "| 11 | numeric   | start_lng          | 0 | 1 | NA | NA | NA |      NA | NA | NA | NA |      NA | NA | -87.64495 | 0.02495401 | -87.84402 | -87.65814 | -87.64182 | -87.62872 | -87.52823 |\n",
       "| 12 | numeric   | end_lat            | 0 | 1 | NA | NA | NA |      NA | NA | NA | NA |      NA | NA |  41.90171 | 0.07675173 |   0.00000 |  41.88096 |  41.89675 |  41.92883 |  42.06485 |\n",
       "| 13 | numeric   | end_lng            | 0 | 1 | NA | NA | NA |      NA | NA | NA | NA |      NA | NA | -87.64502 | 0.13538473 | -87.84406 | -87.65862 | -87.64288 | -87.62915 |   0.00000 |\n",
       "\n"
      ]
     },
     "metadata": {},
     "output_type": "display_data"
    }
   ],
   "source": [
    "# 6. checking results after cleaning data\n",
    "\n",
    "skim_without_charts(Cyclist_merged)\n",
    "# all variables show Cero in the n_missing parameter \n"
   ]
  },
  {
   "cell_type": "code",
   "execution_count": 24,
   "id": "be29cfcd",
   "metadata": {
    "scrolled": true
   },
   "outputs": [
    {
     "data": {
      "text/html": [
       "<table class=\"dataframe\">\n",
       "<caption>A tibble: 6 × 1</caption>\n",
       "<thead>\n",
       "\t<tr><th scope=col>ride_length</th></tr>\n",
       "\t<tr><th scope=col>&lt;drtn&gt;</th></tr>\n",
       "</thead>\n",
       "<tbody>\n",
       "\t<tr><td> 544 secs</td></tr>\n",
       "\t<tr><td>  45 secs</td></tr>\n",
       "\t<tr><td>3698 secs</td></tr>\n",
       "\t<tr><td> 858 secs</td></tr>\n",
       "\t<tr><td>5558 secs</td></tr>\n",
       "\t<tr><td>  10 secs</td></tr>\n",
       "</tbody>\n",
       "</table>\n"
      ],
      "text/latex": [
       "A tibble: 6 × 1\n",
       "\\begin{tabular}{l}\n",
       " ride\\_length\\\\\n",
       " <drtn>\\\\\n",
       "\\hline\n",
       "\t  544 secs\\\\\n",
       "\t   45 secs\\\\\n",
       "\t 3698 secs\\\\\n",
       "\t  858 secs\\\\\n",
       "\t 5558 secs\\\\\n",
       "\t   10 secs\\\\\n",
       "\\end{tabular}\n"
      ],
      "text/markdown": [
       "\n",
       "A tibble: 6 × 1\n",
       "\n",
       "| ride_length &lt;drtn&gt; |\n",
       "|---|\n",
       "|  544 secs |\n",
       "|   45 secs |\n",
       "| 3698 secs |\n",
       "|  858 secs |\n",
       "| 5558 secs |\n",
       "|   10 secs |\n",
       "\n"
      ],
      "text/plain": [
       "  ride_length\n",
       "1  544 secs  \n",
       "2   45 secs  \n",
       "3 3698 secs  \n",
       "4  858 secs  \n",
       "5 5558 secs  \n",
       "6   10 secs  "
      ]
     },
     "metadata": {},
     "output_type": "display_data"
    }
   ],
   "source": [
    "# 7. Adding more variables \n",
    "\n",
    "# 7.1. I created a variable that calculate length of a ride: ride_length\n",
    "\n",
    "Cyclist_merged$ride_length <- difftime(Cyclist_merged$ended_at, Cyclist_merged$started_at)# thedefault units is seconds\n",
    "Cyclist_merged$ride_length <- round(Cyclist_merged$ride_length, digits = 1)# for having only one decimal place\n",
    "\n",
    "# checking the new variable\n",
    "Cyclist_merged%>% \n",
    "  select(ride_length)%>%\n",
    "  head()\n"
   ]
  },
  {
   "cell_type": "code",
   "execution_count": 25,
   "id": "8fb86fed",
   "metadata": {
    "scrolled": true
   },
   "outputs": [
    {
     "data": {
      "text/html": [
       "<table class=\"dataframe\">\n",
       "<caption>A tibble: 6 × 1</caption>\n",
       "<thead>\n",
       "\t<tr><th scope=col>started_date</th></tr>\n",
       "\t<tr><th scope=col>&lt;date&gt;</th></tr>\n",
       "</thead>\n",
       "<tbody>\n",
       "\t<tr><td>2022-08-05</td></tr>\n",
       "\t<tr><td>2022-08-11</td></tr>\n",
       "\t<tr><td>2022-08-21</td></tr>\n",
       "\t<tr><td>2022-08-21</td></tr>\n",
       "\t<tr><td>2022-08-21</td></tr>\n",
       "\t<tr><td>2022-08-19</td></tr>\n",
       "</tbody>\n",
       "</table>\n"
      ],
      "text/latex": [
       "A tibble: 6 × 1\n",
       "\\begin{tabular}{l}\n",
       " started\\_date\\\\\n",
       " <date>\\\\\n",
       "\\hline\n",
       "\t 2022-08-05\\\\\n",
       "\t 2022-08-11\\\\\n",
       "\t 2022-08-21\\\\\n",
       "\t 2022-08-21\\\\\n",
       "\t 2022-08-21\\\\\n",
       "\t 2022-08-19\\\\\n",
       "\\end{tabular}\n"
      ],
      "text/markdown": [
       "\n",
       "A tibble: 6 × 1\n",
       "\n",
       "| started_date &lt;date&gt; |\n",
       "|---|\n",
       "| 2022-08-05 |\n",
       "| 2022-08-11 |\n",
       "| 2022-08-21 |\n",
       "| 2022-08-21 |\n",
       "| 2022-08-21 |\n",
       "| 2022-08-19 |\n",
       "\n"
      ],
      "text/plain": [
       "  started_date\n",
       "1 2022-08-05  \n",
       "2 2022-08-11  \n",
       "3 2022-08-21  \n",
       "4 2022-08-21  \n",
       "5 2022-08-21  \n",
       "6 2022-08-19  "
      ]
     },
     "metadata": {},
     "output_type": "display_data"
    },
    {
     "data": {
      "text/html": [
       "<table class=\"dataframe\">\n",
       "<caption>A tibble: 6 × 1</caption>\n",
       "<thead>\n",
       "\t<tr><th scope=col>started_time</th></tr>\n",
       "\t<tr><th scope=col>&lt;chr&gt;</th></tr>\n",
       "</thead>\n",
       "<tbody>\n",
       "\t<tr><td>16:13:36</td></tr>\n",
       "\t<tr><td>23:30:11</td></tr>\n",
       "\t<tr><td>14:09:08</td></tr>\n",
       "\t<tr><td>16:15:12</td></tr>\n",
       "\t<tr><td>02:11:26</td></tr>\n",
       "\t<tr><td>21:40:21</td></tr>\n",
       "</tbody>\n",
       "</table>\n"
      ],
      "text/latex": [
       "A tibble: 6 × 1\n",
       "\\begin{tabular}{l}\n",
       " started\\_time\\\\\n",
       " <chr>\\\\\n",
       "\\hline\n",
       "\t 16:13:36\\\\\n",
       "\t 23:30:11\\\\\n",
       "\t 14:09:08\\\\\n",
       "\t 16:15:12\\\\\n",
       "\t 02:11:26\\\\\n",
       "\t 21:40:21\\\\\n",
       "\\end{tabular}\n"
      ],
      "text/markdown": [
       "\n",
       "A tibble: 6 × 1\n",
       "\n",
       "| started_time &lt;chr&gt; |\n",
       "|---|\n",
       "| 16:13:36 |\n",
       "| 23:30:11 |\n",
       "| 14:09:08 |\n",
       "| 16:15:12 |\n",
       "| 02:11:26 |\n",
       "| 21:40:21 |\n",
       "\n"
      ],
      "text/plain": [
       "  started_time\n",
       "1 16:13:36    \n",
       "2 23:30:11    \n",
       "3 14:09:08    \n",
       "4 16:15:12    \n",
       "5 02:11:26    \n",
       "6 21:40:21    "
      ]
     },
     "metadata": {},
     "output_type": "display_data"
    }
   ],
   "source": [
    "\n",
    "\n",
    "#7.2. I created two new variables by separating the column \"started_at\" into \"started_date\" and \"started_time\"\n",
    "\n",
    "Cyclist_merged$started_date <- as.Date(Cyclist_merged$started_at)\n",
    "Cyclist_merged$started_time <- format(as.POSIXct(Cyclist_merged$started_at),format= \"%H:%M:%S\")\n",
    "\n",
    "# checking the new variables\n",
    "Cyclist_merged%>%\n",
    "  select(started_date)%>%\n",
    "  head()\n",
    "\n",
    "Cyclist_merged%>%\n",
    "  select(started_time)%>%\n",
    "  head()"
   ]
  },
  {
   "cell_type": "code",
   "execution_count": 27,
   "id": "6ccc34cb",
   "metadata": {},
   "outputs": [
    {
     "data": {
      "text/html": [
       "'en_US'"
      ],
      "text/latex": [
       "'en\\_US'"
      ],
      "text/markdown": [
       "'en_US'"
      ],
      "text/plain": [
       "[1] \"en_US\""
      ]
     },
     "metadata": {},
     "output_type": "display_data"
    },
    {
     "data": {
      "text/html": [
       "'en_US'"
      ],
      "text/latex": [
       "'en\\_US'"
      ],
      "text/markdown": [
       "'en_US'"
      ],
      "text/plain": [
       "[1] \"en_US\""
      ]
     },
     "metadata": {},
     "output_type": "display_data"
    },
    {
     "data": {
      "text/html": [
       "<table class=\"dataframe\">\n",
       "<caption>A tibble: 6 × 1</caption>\n",
       "<thead>\n",
       "\t<tr><th scope=col>day_of_week</th></tr>\n",
       "\t<tr><th scope=col>&lt;chr&gt;</th></tr>\n",
       "</thead>\n",
       "<tbody>\n",
       "\t<tr><td>Friday  </td></tr>\n",
       "\t<tr><td>Thursday</td></tr>\n",
       "\t<tr><td>Sunday  </td></tr>\n",
       "\t<tr><td>Sunday  </td></tr>\n",
       "\t<tr><td>Sunday  </td></tr>\n",
       "\t<tr><td>Friday  </td></tr>\n",
       "</tbody>\n",
       "</table>\n"
      ],
      "text/latex": [
       "A tibble: 6 × 1\n",
       "\\begin{tabular}{l}\n",
       " day\\_of\\_week\\\\\n",
       " <chr>\\\\\n",
       "\\hline\n",
       "\t Friday  \\\\\n",
       "\t Thursday\\\\\n",
       "\t Sunday  \\\\\n",
       "\t Sunday  \\\\\n",
       "\t Sunday  \\\\\n",
       "\t Friday  \\\\\n",
       "\\end{tabular}\n"
      ],
      "text/markdown": [
       "\n",
       "A tibble: 6 × 1\n",
       "\n",
       "| day_of_week &lt;chr&gt; |\n",
       "|---|\n",
       "| Friday   |\n",
       "| Thursday |\n",
       "| Sunday   |\n",
       "| Sunday   |\n",
       "| Sunday   |\n",
       "| Friday   |\n",
       "\n"
      ],
      "text/plain": [
       "  day_of_week\n",
       "1 Friday     \n",
       "2 Thursday   \n",
       "3 Sunday     \n",
       "4 Sunday     \n",
       "5 Sunday     \n",
       "6 Friday     "
      ]
     },
     "metadata": {},
     "output_type": "display_data"
    }
   ],
   "source": [
    "# 7.3. Create the column \"day_of_week\", in which is calculated the day of the week that each ride startet\n",
    "# 1= sunday, and 7= saturday\n",
    "\n",
    "# before this is important to set the local time in this case english\n",
    "Sys.setlocale(\"LC_TIME\", \"en_US\")\n",
    "# checking the local time\n",
    "Sys.getlocale(\"LC_TIME\") \n",
    "\n",
    "# creating the new variable\n",
    "Cyclist_merged$day_of_week <- weekdays(Cyclist_merged$started_at)\n",
    "\n",
    "# checking the new variable\n",
    "Cyclist_merged%>%\n",
    "  select(day_of_week)%>%\n",
    "  head()\n"
   ]
  },
  {
   "cell_type": "code",
   "execution_count": 28,
   "id": "d2a5fb4d",
   "metadata": {},
   "outputs": [
    {
     "data": {
      "text/html": [
       "<style>\n",
       ".list-inline {list-style: none; margin:0; padding: 0}\n",
       ".list-inline>li {display: inline-block}\n",
       ".list-inline>li:not(:last-child)::after {content: \"\\00b7\"; padding: 0 .5ex}\n",
       "</style>\n",
       "<ol class=list-inline><li>'ride_id'</li><li>'rideable_type'</li><li>'started_at'</li><li>'ended_at'</li><li>'start_station_name'</li><li>'start_station_id'</li><li>'end_station_name'</li><li>'end_station_id'</li><li>'start_lat'</li><li>'start_lng'</li><li>'end_lat'</li><li>'end_lng'</li><li>'member_casual'</li><li>'ride_length'</li><li>'started_date'</li><li>'started_time'</li><li>'day_of_week'</li></ol>\n"
      ],
      "text/latex": [
       "\\begin{enumerate*}\n",
       "\\item 'ride\\_id'\n",
       "\\item 'rideable\\_type'\n",
       "\\item 'started\\_at'\n",
       "\\item 'ended\\_at'\n",
       "\\item 'start\\_station\\_name'\n",
       "\\item 'start\\_station\\_id'\n",
       "\\item 'end\\_station\\_name'\n",
       "\\item 'end\\_station\\_id'\n",
       "\\item 'start\\_lat'\n",
       "\\item 'start\\_lng'\n",
       "\\item 'end\\_lat'\n",
       "\\item 'end\\_lng'\n",
       "\\item 'member\\_casual'\n",
       "\\item 'ride\\_length'\n",
       "\\item 'started\\_date'\n",
       "\\item 'started\\_time'\n",
       "\\item 'day\\_of\\_week'\n",
       "\\end{enumerate*}\n"
      ],
      "text/markdown": [
       "1. 'ride_id'\n",
       "2. 'rideable_type'\n",
       "3. 'started_at'\n",
       "4. 'ended_at'\n",
       "5. 'start_station_name'\n",
       "6. 'start_station_id'\n",
       "7. 'end_station_name'\n",
       "8. 'end_station_id'\n",
       "9. 'start_lat'\n",
       "10. 'start_lng'\n",
       "11. 'end_lat'\n",
       "12. 'end_lng'\n",
       "13. 'member_casual'\n",
       "14. 'ride_length'\n",
       "15. 'started_date'\n",
       "16. 'started_time'\n",
       "17. 'day_of_week'\n",
       "\n",
       "\n"
      ],
      "text/plain": [
       " [1] \"ride_id\"            \"rideable_type\"      \"started_at\"        \n",
       " [4] \"ended_at\"           \"start_station_name\" \"start_station_id\"  \n",
       " [7] \"end_station_name\"   \"end_station_id\"     \"start_lat\"         \n",
       "[10] \"start_lng\"          \"end_lat\"            \"end_lng\"           \n",
       "[13] \"member_casual\"      \"ride_length\"        \"started_date\"      \n",
       "[16] \"started_time\"       \"day_of_week\"       "
      ]
     },
     "metadata": {},
     "output_type": "display_data"
    }
   ],
   "source": [
    "#7.4. checking if the data have the 4 new columns (ride_length, started_date, started_time and day_of_week) I added\n",
    "\n",
    "colnames(Cyclist_merged)##checking the columns"
   ]
  },
  {
   "cell_type": "markdown",
   "id": "3689926a",
   "metadata": {},
   "source": [
    "## Analyze"
   ]
  },
  {
   "cell_type": "code",
   "execution_count": null,
   "id": "0227a56d",
   "metadata": {},
   "outputs": [],
   "source": []
  }
 ],
 "metadata": {
  "kernelspec": {
   "display_name": "R",
   "language": "R",
   "name": "ir"
  },
  "language_info": {
   "codemirror_mode": "r",
   "file_extension": ".r",
   "mimetype": "text/x-r-source",
   "name": "R",
   "pygments_lexer": "r",
   "version": "4.2.0"
  }
 },
 "nbformat": 4,
 "nbformat_minor": 5
}
